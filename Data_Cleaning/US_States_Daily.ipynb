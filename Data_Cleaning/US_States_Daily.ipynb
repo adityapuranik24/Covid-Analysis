{
 "cells": [
  {
   "cell_type": "code",
   "execution_count": 19,
   "metadata": {},
   "outputs": [],
   "source": [
    "import pandas as pd"
   ]
  },
  {
   "cell_type": "code",
   "execution_count": 25,
   "metadata": {},
   "outputs": [
    {
     "data": {
      "text/html": [
       "<div>\n",
       "<style scoped>\n",
       "    .dataframe tbody tr th:only-of-type {\n",
       "        vertical-align: middle;\n",
       "    }\n",
       "\n",
       "    .dataframe tbody tr th {\n",
       "        vertical-align: top;\n",
       "    }\n",
       "\n",
       "    .dataframe thead th {\n",
       "        text-align: right;\n",
       "    }\n",
       "</style>\n",
       "<table border=\"1\" class=\"dataframe\">\n",
       "  <thead>\n",
       "    <tr style=\"text-align: right;\">\n",
       "      <th></th>\n",
       "      <th>date</th>\n",
       "      <th>state</th>\n",
       "      <th>positive</th>\n",
       "      <th>probableCases</th>\n",
       "      <th>negative</th>\n",
       "      <th>pending</th>\n",
       "      <th>totalTestResultsSource</th>\n",
       "      <th>totalTestResults</th>\n",
       "      <th>hospitalizedCurrently</th>\n",
       "      <th>hospitalizedCumulative</th>\n",
       "      <th>...</th>\n",
       "      <th>dataQualityGrade</th>\n",
       "      <th>deathIncrease</th>\n",
       "      <th>hospitalizedIncrease</th>\n",
       "      <th>hash</th>\n",
       "      <th>commercialScore</th>\n",
       "      <th>negativeRegularScore</th>\n",
       "      <th>negativeScore</th>\n",
       "      <th>positiveScore</th>\n",
       "      <th>score</th>\n",
       "      <th>grade</th>\n",
       "    </tr>\n",
       "  </thead>\n",
       "  <tbody>\n",
       "    <tr>\n",
       "      <th>0</th>\n",
       "      <td>20210307</td>\n",
       "      <td>AK</td>\n",
       "      <td>56886</td>\n",
       "      <td>NaN</td>\n",
       "      <td>NaN</td>\n",
       "      <td>NaN</td>\n",
       "      <td>totalTestsViral</td>\n",
       "      <td>1731628</td>\n",
       "      <td>33.0</td>\n",
       "      <td>1293.0</td>\n",
       "      <td>...</td>\n",
       "      <td>NaN</td>\n",
       "      <td>0.0</td>\n",
       "      <td>0.0</td>\n",
       "      <td>dc4bccd4bb885349d7e94d6fed058e285d4be164</td>\n",
       "      <td>0.0</td>\n",
       "      <td>0.0</td>\n",
       "      <td>0.0</td>\n",
       "      <td>0.0</td>\n",
       "      <td>0.0</td>\n",
       "      <td>NaN</td>\n",
       "    </tr>\n",
       "    <tr>\n",
       "      <th>1</th>\n",
       "      <td>20210307</td>\n",
       "      <td>AL</td>\n",
       "      <td>499819</td>\n",
       "      <td>107742.0</td>\n",
       "      <td>1931711.0</td>\n",
       "      <td>NaN</td>\n",
       "      <td>totalTestsPeopleViral</td>\n",
       "      <td>2323788</td>\n",
       "      <td>494.0</td>\n",
       "      <td>45976.0</td>\n",
       "      <td>...</td>\n",
       "      <td>NaN</td>\n",
       "      <td>-1.0</td>\n",
       "      <td>0.0</td>\n",
       "      <td>997207b430824ea40b8eb8506c19a93e07bc972e</td>\n",
       "      <td>0.0</td>\n",
       "      <td>0.0</td>\n",
       "      <td>0.0</td>\n",
       "      <td>0.0</td>\n",
       "      <td>0.0</td>\n",
       "      <td>NaN</td>\n",
       "    </tr>\n",
       "    <tr>\n",
       "      <th>2</th>\n",
       "      <td>20210307</td>\n",
       "      <td>AR</td>\n",
       "      <td>324818</td>\n",
       "      <td>69092.0</td>\n",
       "      <td>2480716.0</td>\n",
       "      <td>NaN</td>\n",
       "      <td>totalTestsViral</td>\n",
       "      <td>2736442</td>\n",
       "      <td>335.0</td>\n",
       "      <td>14926.0</td>\n",
       "      <td>...</td>\n",
       "      <td>NaN</td>\n",
       "      <td>22.0</td>\n",
       "      <td>11.0</td>\n",
       "      <td>50921aeefba3e30d31623aa495b47fb2ecc72fae</td>\n",
       "      <td>0.0</td>\n",
       "      <td>0.0</td>\n",
       "      <td>0.0</td>\n",
       "      <td>0.0</td>\n",
       "      <td>0.0</td>\n",
       "      <td>NaN</td>\n",
       "    </tr>\n",
       "    <tr>\n",
       "      <th>3</th>\n",
       "      <td>20210307</td>\n",
       "      <td>AS</td>\n",
       "      <td>0</td>\n",
       "      <td>NaN</td>\n",
       "      <td>2140.0</td>\n",
       "      <td>NaN</td>\n",
       "      <td>totalTestsViral</td>\n",
       "      <td>2140</td>\n",
       "      <td>NaN</td>\n",
       "      <td>NaN</td>\n",
       "      <td>...</td>\n",
       "      <td>NaN</td>\n",
       "      <td>0.0</td>\n",
       "      <td>0.0</td>\n",
       "      <td>96d23f888c995b9a7f3b4b864de6414f45c728ff</td>\n",
       "      <td>0.0</td>\n",
       "      <td>0.0</td>\n",
       "      <td>0.0</td>\n",
       "      <td>0.0</td>\n",
       "      <td>0.0</td>\n",
       "      <td>NaN</td>\n",
       "    </tr>\n",
       "    <tr>\n",
       "      <th>4</th>\n",
       "      <td>20210307</td>\n",
       "      <td>AZ</td>\n",
       "      <td>826454</td>\n",
       "      <td>56519.0</td>\n",
       "      <td>3073010.0</td>\n",
       "      <td>NaN</td>\n",
       "      <td>totalTestsViral</td>\n",
       "      <td>7908105</td>\n",
       "      <td>963.0</td>\n",
       "      <td>57907.0</td>\n",
       "      <td>...</td>\n",
       "      <td>NaN</td>\n",
       "      <td>5.0</td>\n",
       "      <td>44.0</td>\n",
       "      <td>0437a7a96f4471666f775e63e86923eb5cbd8cdf</td>\n",
       "      <td>0.0</td>\n",
       "      <td>0.0</td>\n",
       "      <td>0.0</td>\n",
       "      <td>0.0</td>\n",
       "      <td>0.0</td>\n",
       "      <td>NaN</td>\n",
       "    </tr>\n",
       "  </tbody>\n",
       "</table>\n",
       "<p>5 rows × 56 columns</p>\n",
       "</div>"
      ],
      "text/plain": [
       "       date state  positive  probableCases   negative  pending  \\\n",
       "0  20210307    AK     56886            NaN        NaN      NaN   \n",
       "1  20210307    AL    499819       107742.0  1931711.0      NaN   \n",
       "2  20210307    AR    324818        69092.0  2480716.0      NaN   \n",
       "3  20210307    AS         0            NaN     2140.0      NaN   \n",
       "4  20210307    AZ    826454        56519.0  3073010.0      NaN   \n",
       "\n",
       "  totalTestResultsSource  totalTestResults  hospitalizedCurrently  \\\n",
       "0        totalTestsViral           1731628                   33.0   \n",
       "1  totalTestsPeopleViral           2323788                  494.0   \n",
       "2        totalTestsViral           2736442                  335.0   \n",
       "3        totalTestsViral              2140                    NaN   \n",
       "4        totalTestsViral           7908105                  963.0   \n",
       "\n",
       "   hospitalizedCumulative  ...  dataQualityGrade  deathIncrease  \\\n",
       "0                  1293.0  ...               NaN            0.0   \n",
       "1                 45976.0  ...               NaN           -1.0   \n",
       "2                 14926.0  ...               NaN           22.0   \n",
       "3                     NaN  ...               NaN            0.0   \n",
       "4                 57907.0  ...               NaN            5.0   \n",
       "\n",
       "   hospitalizedIncrease                                      hash  \\\n",
       "0                   0.0  dc4bccd4bb885349d7e94d6fed058e285d4be164   \n",
       "1                   0.0  997207b430824ea40b8eb8506c19a93e07bc972e   \n",
       "2                  11.0  50921aeefba3e30d31623aa495b47fb2ecc72fae   \n",
       "3                   0.0  96d23f888c995b9a7f3b4b864de6414f45c728ff   \n",
       "4                  44.0  0437a7a96f4471666f775e63e86923eb5cbd8cdf   \n",
       "\n",
       "   commercialScore negativeRegularScore negativeScore positiveScore  score  \\\n",
       "0              0.0                  0.0           0.0           0.0    0.0   \n",
       "1              0.0                  0.0           0.0           0.0    0.0   \n",
       "2              0.0                  0.0           0.0           0.0    0.0   \n",
       "3              0.0                  0.0           0.0           0.0    0.0   \n",
       "4              0.0                  0.0           0.0           0.0    0.0   \n",
       "\n",
       "   grade  \n",
       "0    NaN  \n",
       "1    NaN  \n",
       "2    NaN  \n",
       "3    NaN  \n",
       "4    NaN  \n",
       "\n",
       "[5 rows x 56 columns]"
      ]
     },
     "execution_count": 25,
     "metadata": {},
     "output_type": "execute_result"
    }
   ],
   "source": [
    "df = pd.read_csv(\"../Data/Raw Data/states_daily.csv\")\n",
    "df.head()"
   ]
  },
  {
   "cell_type": "code",
   "execution_count": 26,
   "metadata": {},
   "outputs": [],
   "source": [
    "df = df.drop(['probableCases', 'pending', 'hospitalizedCumulative', 'inIcuCumulative', 'onVentilatorCumulative', 'lastUpdateEt',\n",
    "              'dateModified', 'checkTimeEt', 'hospitalizedDischarged', 'dateChecked', 'positiveTestsViral', 'negativeTestsViral',\n",
    "              'positiveCasesViral', 'totalTestEncountersViral', 'totalTestsPeopleViral', 'positiveTestsAntibody', \n",
    "              'negativeTestsAntibody', 'totalTestsPeopleAntibody', 'positiveTestsPeopleAntibody', 'negativeTestsPeopleAntibody',\n",
    "              'totalTestsPeopleAntigen', 'positiveTestsPeopleAntigen', 'totalTestsAntigen', 'positiveTestsAntigen', 'fips', \n",
    "              'dataQualityGrade', 'commercialScore', 'negativeRegularScore', 'negativeScore', 'positiveScore', 'score', 'grade', 'hash'], axis= 1)"
   ]
  },
  {
   "cell_type": "code",
   "execution_count": 27,
   "metadata": {},
   "outputs": [],
   "source": [
    "columns = df.columns\n",
    "for i in columns:\n",
    "    if (i != \"state\") and (i != \"totalTestResultsSource\"):\n",
    "        df[i] = df[i].fillna(0)   \n",
    "        df[i] = df[i].astype(int)\n",
    "        "
   ]
  },
  {
   "cell_type": "code",
   "execution_count": 33,
   "metadata": {},
   "outputs": [
    {
     "data": {
      "text/plain": [
       "dtype('<M8[ns]')"
      ]
     },
     "execution_count": 33,
     "metadata": {},
     "output_type": "execute_result"
    }
   ],
   "source": []
  },
  {
   "cell_type": "code",
   "execution_count": 36,
   "metadata": {},
   "outputs": [],
   "source": [
    "Date = []\n",
    "for i in df['date']:\n",
    "    date_object = pd.to_datetime(i)\n",
    "    formatted_date = date_object.strftime('%Y-%m-%d')\n",
    "    Date.append(formatted_date)\n",
    "df['date'] = Date\n",
    "\n"
   ]
  },
  {
   "cell_type": "code",
   "execution_count": 37,
   "metadata": {},
   "outputs": [
    {
     "data": {
      "text/plain": [
       "0       1970-01-01\n",
       "1       1970-01-01\n",
       "2       1970-01-01\n",
       "3       1970-01-01\n",
       "4       1970-01-01\n",
       "           ...    \n",
       "2680    1970-01-01\n",
       "2681    1970-01-01\n",
       "2682    1970-01-01\n",
       "2683    1970-01-01\n",
       "2684    1970-01-01\n",
       "Name: date, Length: 2685, dtype: object"
      ]
     },
     "execution_count": 37,
     "metadata": {},
     "output_type": "execute_result"
    }
   ],
   "source": [
    "df['date']"
   ]
  },
  {
   "cell_type": "code",
   "execution_count": 7,
   "metadata": {},
   "outputs": [],
   "source": [
    "df.to_csv(\"../Data/Clean Data/US_States_Updated_Data.csv\", index= False)"
   ]
  },
  {
   "cell_type": "code",
   "execution_count": 54,
   "metadata": {},
   "outputs": [
    {
     "data": {
      "text/plain": [
       "(2685, 23)"
      ]
     },
     "execution_count": 54,
     "metadata": {},
     "output_type": "execute_result"
    }
   ],
   "source": [
    "df.shape"
   ]
  },
  {
   "cell_type": "code",
   "execution_count": null,
   "metadata": {},
   "outputs": [],
   "source": []
  }
 ],
 "metadata": {
  "kernelspec": {
   "display_name": "Python 3",
   "language": "python",
   "name": "python3"
  },
  "language_info": {
   "codemirror_mode": {
    "name": "ipython",
    "version": 3
   },
   "file_extension": ".py",
   "mimetype": "text/x-python",
   "name": "python",
   "nbconvert_exporter": "python",
   "pygments_lexer": "ipython3",
   "version": "3.9.13"
  }
 },
 "nbformat": 4,
 "nbformat_minor": 2
}
