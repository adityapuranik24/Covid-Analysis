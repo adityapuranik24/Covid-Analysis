{
 "cells": [
  {
   "cell_type": "code",
   "execution_count": 157,
   "metadata": {},
   "outputs": [],
   "source": [
    "import pandas as pd"
   ]
  },
  {
   "cell_type": "code",
   "execution_count": 203,
   "metadata": {},
   "outputs": [
    {
     "data": {
      "text/html": [
       "<div>\n",
       "<style scoped>\n",
       "    .dataframe tbody tr th:only-of-type {\n",
       "        vertical-align: middle;\n",
       "    }\n",
       "\n",
       "    .dataframe tbody tr th {\n",
       "        vertical-align: top;\n",
       "    }\n",
       "\n",
       "    .dataframe thead th {\n",
       "        text-align: right;\n",
       "    }\n",
       "</style>\n",
       "<table border=\"1\" class=\"dataframe\">\n",
       "  <thead>\n",
       "    <tr style=\"text-align: right;\">\n",
       "      <th></th>\n",
       "      <th>iso_code</th>\n",
       "      <th>continent</th>\n",
       "      <th>location</th>\n",
       "      <th>date</th>\n",
       "      <th>total_cases</th>\n",
       "      <th>new_cases</th>\n",
       "      <th>new_cases_smoothed</th>\n",
       "      <th>total_deaths</th>\n",
       "      <th>new_deaths</th>\n",
       "      <th>new_deaths_smoothed</th>\n",
       "      <th>...</th>\n",
       "      <th>female_smokers</th>\n",
       "      <th>male_smokers</th>\n",
       "      <th>handwashing_facilities</th>\n",
       "      <th>hospital_beds_per_thousand</th>\n",
       "      <th>life_expectancy</th>\n",
       "      <th>human_development_index</th>\n",
       "      <th>excess_mortality_cumulative_absolute</th>\n",
       "      <th>excess_mortality_cumulative</th>\n",
       "      <th>excess_mortality</th>\n",
       "      <th>excess_mortality_cumulative_per_million</th>\n",
       "    </tr>\n",
       "  </thead>\n",
       "  <tbody>\n",
       "    <tr>\n",
       "      <th>0</th>\n",
       "      <td>AFG</td>\n",
       "      <td>Asia</td>\n",
       "      <td>Afghanistan</td>\n",
       "      <td>2020-02-24</td>\n",
       "      <td>5.0</td>\n",
       "      <td>5.0</td>\n",
       "      <td>NaN</td>\n",
       "      <td>NaN</td>\n",
       "      <td>NaN</td>\n",
       "      <td>NaN</td>\n",
       "      <td>...</td>\n",
       "      <td>NaN</td>\n",
       "      <td>NaN</td>\n",
       "      <td>37.746</td>\n",
       "      <td>0.5</td>\n",
       "      <td>64.83</td>\n",
       "      <td>0.511</td>\n",
       "      <td>NaN</td>\n",
       "      <td>NaN</td>\n",
       "      <td>NaN</td>\n",
       "      <td>NaN</td>\n",
       "    </tr>\n",
       "    <tr>\n",
       "      <th>1</th>\n",
       "      <td>AFG</td>\n",
       "      <td>Asia</td>\n",
       "      <td>Afghanistan</td>\n",
       "      <td>2020-02-25</td>\n",
       "      <td>5.0</td>\n",
       "      <td>0.0</td>\n",
       "      <td>NaN</td>\n",
       "      <td>NaN</td>\n",
       "      <td>NaN</td>\n",
       "      <td>NaN</td>\n",
       "      <td>...</td>\n",
       "      <td>NaN</td>\n",
       "      <td>NaN</td>\n",
       "      <td>37.746</td>\n",
       "      <td>0.5</td>\n",
       "      <td>64.83</td>\n",
       "      <td>0.511</td>\n",
       "      <td>NaN</td>\n",
       "      <td>NaN</td>\n",
       "      <td>NaN</td>\n",
       "      <td>NaN</td>\n",
       "    </tr>\n",
       "    <tr>\n",
       "      <th>2</th>\n",
       "      <td>AFG</td>\n",
       "      <td>Asia</td>\n",
       "      <td>Afghanistan</td>\n",
       "      <td>2020-02-26</td>\n",
       "      <td>5.0</td>\n",
       "      <td>0.0</td>\n",
       "      <td>NaN</td>\n",
       "      <td>NaN</td>\n",
       "      <td>NaN</td>\n",
       "      <td>NaN</td>\n",
       "      <td>...</td>\n",
       "      <td>NaN</td>\n",
       "      <td>NaN</td>\n",
       "      <td>37.746</td>\n",
       "      <td>0.5</td>\n",
       "      <td>64.83</td>\n",
       "      <td>0.511</td>\n",
       "      <td>NaN</td>\n",
       "      <td>NaN</td>\n",
       "      <td>NaN</td>\n",
       "      <td>NaN</td>\n",
       "    </tr>\n",
       "    <tr>\n",
       "      <th>3</th>\n",
       "      <td>AFG</td>\n",
       "      <td>Asia</td>\n",
       "      <td>Afghanistan</td>\n",
       "      <td>2020-02-27</td>\n",
       "      <td>5.0</td>\n",
       "      <td>0.0</td>\n",
       "      <td>NaN</td>\n",
       "      <td>NaN</td>\n",
       "      <td>NaN</td>\n",
       "      <td>NaN</td>\n",
       "      <td>...</td>\n",
       "      <td>NaN</td>\n",
       "      <td>NaN</td>\n",
       "      <td>37.746</td>\n",
       "      <td>0.5</td>\n",
       "      <td>64.83</td>\n",
       "      <td>0.511</td>\n",
       "      <td>NaN</td>\n",
       "      <td>NaN</td>\n",
       "      <td>NaN</td>\n",
       "      <td>NaN</td>\n",
       "    </tr>\n",
       "    <tr>\n",
       "      <th>4</th>\n",
       "      <td>AFG</td>\n",
       "      <td>Asia</td>\n",
       "      <td>Afghanistan</td>\n",
       "      <td>2020-02-28</td>\n",
       "      <td>5.0</td>\n",
       "      <td>0.0</td>\n",
       "      <td>NaN</td>\n",
       "      <td>NaN</td>\n",
       "      <td>NaN</td>\n",
       "      <td>NaN</td>\n",
       "      <td>...</td>\n",
       "      <td>NaN</td>\n",
       "      <td>NaN</td>\n",
       "      <td>37.746</td>\n",
       "      <td>0.5</td>\n",
       "      <td>64.83</td>\n",
       "      <td>0.511</td>\n",
       "      <td>NaN</td>\n",
       "      <td>NaN</td>\n",
       "      <td>NaN</td>\n",
       "      <td>NaN</td>\n",
       "    </tr>\n",
       "    <tr>\n",
       "      <th>...</th>\n",
       "      <td>...</td>\n",
       "      <td>...</td>\n",
       "      <td>...</td>\n",
       "      <td>...</td>\n",
       "      <td>...</td>\n",
       "      <td>...</td>\n",
       "      <td>...</td>\n",
       "      <td>...</td>\n",
       "      <td>...</td>\n",
       "      <td>...</td>\n",
       "      <td>...</td>\n",
       "      <td>...</td>\n",
       "      <td>...</td>\n",
       "      <td>...</td>\n",
       "      <td>...</td>\n",
       "      <td>...</td>\n",
       "      <td>...</td>\n",
       "      <td>...</td>\n",
       "      <td>...</td>\n",
       "      <td>...</td>\n",
       "      <td>...</td>\n",
       "    </tr>\n",
       "    <tr>\n",
       "      <th>95</th>\n",
       "      <td>AFG</td>\n",
       "      <td>Asia</td>\n",
       "      <td>Afghanistan</td>\n",
       "      <td>2020-05-29</td>\n",
       "      <td>13745.0</td>\n",
       "      <td>643.0</td>\n",
       "      <td>647.000</td>\n",
       "      <td>250.0</td>\n",
       "      <td>11.0</td>\n",
       "      <td>6.429</td>\n",
       "      <td>...</td>\n",
       "      <td>NaN</td>\n",
       "      <td>NaN</td>\n",
       "      <td>37.746</td>\n",
       "      <td>0.5</td>\n",
       "      <td>64.83</td>\n",
       "      <td>0.511</td>\n",
       "      <td>NaN</td>\n",
       "      <td>NaN</td>\n",
       "      <td>NaN</td>\n",
       "      <td>NaN</td>\n",
       "    </tr>\n",
       "    <tr>\n",
       "      <th>96</th>\n",
       "      <td>AFG</td>\n",
       "      <td>Asia</td>\n",
       "      <td>Afghanistan</td>\n",
       "      <td>2020-05-30</td>\n",
       "      <td>14529.0</td>\n",
       "      <td>784.0</td>\n",
       "      <td>653.857</td>\n",
       "      <td>252.0</td>\n",
       "      <td>2.0</td>\n",
       "      <td>5.286</td>\n",
       "      <td>...</td>\n",
       "      <td>NaN</td>\n",
       "      <td>NaN</td>\n",
       "      <td>37.746</td>\n",
       "      <td>0.5</td>\n",
       "      <td>64.83</td>\n",
       "      <td>0.511</td>\n",
       "      <td>NaN</td>\n",
       "      <td>NaN</td>\n",
       "      <td>NaN</td>\n",
       "      <td>NaN</td>\n",
       "    </tr>\n",
       "    <tr>\n",
       "      <th>97</th>\n",
       "      <td>AFG</td>\n",
       "      <td>Asia</td>\n",
       "      <td>Afghanistan</td>\n",
       "      <td>2020-05-31</td>\n",
       "      <td>15180.0</td>\n",
       "      <td>651.0</td>\n",
       "      <td>644.571</td>\n",
       "      <td>254.0</td>\n",
       "      <td>2.0</td>\n",
       "      <td>4.571</td>\n",
       "      <td>...</td>\n",
       "      <td>NaN</td>\n",
       "      <td>NaN</td>\n",
       "      <td>37.746</td>\n",
       "      <td>0.5</td>\n",
       "      <td>64.83</td>\n",
       "      <td>0.511</td>\n",
       "      <td>NaN</td>\n",
       "      <td>NaN</td>\n",
       "      <td>NaN</td>\n",
       "      <td>NaN</td>\n",
       "    </tr>\n",
       "    <tr>\n",
       "      <th>98</th>\n",
       "      <td>AFG</td>\n",
       "      <td>Asia</td>\n",
       "      <td>Afghanistan</td>\n",
       "      <td>2020-06-01</td>\n",
       "      <td>15836.0</td>\n",
       "      <td>656.0</td>\n",
       "      <td>665.143</td>\n",
       "      <td>269.0</td>\n",
       "      <td>15.0</td>\n",
       "      <td>6.571</td>\n",
       "      <td>...</td>\n",
       "      <td>NaN</td>\n",
       "      <td>NaN</td>\n",
       "      <td>37.746</td>\n",
       "      <td>0.5</td>\n",
       "      <td>64.83</td>\n",
       "      <td>0.511</td>\n",
       "      <td>NaN</td>\n",
       "      <td>NaN</td>\n",
       "      <td>NaN</td>\n",
       "      <td>NaN</td>\n",
       "    </tr>\n",
       "    <tr>\n",
       "      <th>99</th>\n",
       "      <td>AFG</td>\n",
       "      <td>Asia</td>\n",
       "      <td>Afghanistan</td>\n",
       "      <td>2020-06-02</td>\n",
       "      <td>16578.0</td>\n",
       "      <td>742.0</td>\n",
       "      <td>665.857</td>\n",
       "      <td>274.0</td>\n",
       "      <td>5.0</td>\n",
       "      <td>7.143</td>\n",
       "      <td>...</td>\n",
       "      <td>NaN</td>\n",
       "      <td>NaN</td>\n",
       "      <td>37.746</td>\n",
       "      <td>0.5</td>\n",
       "      <td>64.83</td>\n",
       "      <td>0.511</td>\n",
       "      <td>NaN</td>\n",
       "      <td>NaN</td>\n",
       "      <td>NaN</td>\n",
       "      <td>NaN</td>\n",
       "    </tr>\n",
       "  </tbody>\n",
       "</table>\n",
       "<p>100 rows × 65 columns</p>\n",
       "</div>"
      ],
      "text/plain": [
       "   iso_code continent     location        date  total_cases  new_cases  \\\n",
       "0       AFG      Asia  Afghanistan  2020-02-24          5.0        5.0   \n",
       "1       AFG      Asia  Afghanistan  2020-02-25          5.0        0.0   \n",
       "2       AFG      Asia  Afghanistan  2020-02-26          5.0        0.0   \n",
       "3       AFG      Asia  Afghanistan  2020-02-27          5.0        0.0   \n",
       "4       AFG      Asia  Afghanistan  2020-02-28          5.0        0.0   \n",
       "..      ...       ...          ...         ...          ...        ...   \n",
       "95      AFG      Asia  Afghanistan  2020-05-29      13745.0      643.0   \n",
       "96      AFG      Asia  Afghanistan  2020-05-30      14529.0      784.0   \n",
       "97      AFG      Asia  Afghanistan  2020-05-31      15180.0      651.0   \n",
       "98      AFG      Asia  Afghanistan  2020-06-01      15836.0      656.0   \n",
       "99      AFG      Asia  Afghanistan  2020-06-02      16578.0      742.0   \n",
       "\n",
       "    new_cases_smoothed  total_deaths  new_deaths  new_deaths_smoothed  ...  \\\n",
       "0                  NaN           NaN         NaN                  NaN  ...   \n",
       "1                  NaN           NaN         NaN                  NaN  ...   \n",
       "2                  NaN           NaN         NaN                  NaN  ...   \n",
       "3                  NaN           NaN         NaN                  NaN  ...   \n",
       "4                  NaN           NaN         NaN                  NaN  ...   \n",
       "..                 ...           ...         ...                  ...  ...   \n",
       "95             647.000         250.0        11.0                6.429  ...   \n",
       "96             653.857         252.0         2.0                5.286  ...   \n",
       "97             644.571         254.0         2.0                4.571  ...   \n",
       "98             665.143         269.0        15.0                6.571  ...   \n",
       "99             665.857         274.0         5.0                7.143  ...   \n",
       "\n",
       "    female_smokers  male_smokers  handwashing_facilities  \\\n",
       "0              NaN           NaN                  37.746   \n",
       "1              NaN           NaN                  37.746   \n",
       "2              NaN           NaN                  37.746   \n",
       "3              NaN           NaN                  37.746   \n",
       "4              NaN           NaN                  37.746   \n",
       "..             ...           ...                     ...   \n",
       "95             NaN           NaN                  37.746   \n",
       "96             NaN           NaN                  37.746   \n",
       "97             NaN           NaN                  37.746   \n",
       "98             NaN           NaN                  37.746   \n",
       "99             NaN           NaN                  37.746   \n",
       "\n",
       "    hospital_beds_per_thousand  life_expectancy  human_development_index  \\\n",
       "0                          0.5            64.83                    0.511   \n",
       "1                          0.5            64.83                    0.511   \n",
       "2                          0.5            64.83                    0.511   \n",
       "3                          0.5            64.83                    0.511   \n",
       "4                          0.5            64.83                    0.511   \n",
       "..                         ...              ...                      ...   \n",
       "95                         0.5            64.83                    0.511   \n",
       "96                         0.5            64.83                    0.511   \n",
       "97                         0.5            64.83                    0.511   \n",
       "98                         0.5            64.83                    0.511   \n",
       "99                         0.5            64.83                    0.511   \n",
       "\n",
       "    excess_mortality_cumulative_absolute  excess_mortality_cumulative  \\\n",
       "0                                    NaN                          NaN   \n",
       "1                                    NaN                          NaN   \n",
       "2                                    NaN                          NaN   \n",
       "3                                    NaN                          NaN   \n",
       "4                                    NaN                          NaN   \n",
       "..                                   ...                          ...   \n",
       "95                                   NaN                          NaN   \n",
       "96                                   NaN                          NaN   \n",
       "97                                   NaN                          NaN   \n",
       "98                                   NaN                          NaN   \n",
       "99                                   NaN                          NaN   \n",
       "\n",
       "    excess_mortality  excess_mortality_cumulative_per_million  \n",
       "0                NaN                                      NaN  \n",
       "1                NaN                                      NaN  \n",
       "2                NaN                                      NaN  \n",
       "3                NaN                                      NaN  \n",
       "4                NaN                                      NaN  \n",
       "..               ...                                      ...  \n",
       "95               NaN                                      NaN  \n",
       "96               NaN                                      NaN  \n",
       "97               NaN                                      NaN  \n",
       "98               NaN                                      NaN  \n",
       "99               NaN                                      NaN  \n",
       "\n",
       "[100 rows x 65 columns]"
      ]
     },
     "execution_count": 203,
     "metadata": {},
     "output_type": "execute_result"
    }
   ],
   "source": [
    "df = pd.read_csv(\"../Data/Raw Data/covid-19-world-cases-deaths-testing.csv\")\n",
    "df.head(100)"
   ]
  },
  {
   "cell_type": "markdown",
   "metadata": {},
   "source": [
    "## Creating new DataFrame for Country codes"
   ]
  },
  {
   "cell_type": "code",
   "execution_count": 159,
   "metadata": {},
   "outputs": [
    {
     "data": {
      "text/html": [
       "<div>\n",
       "<style scoped>\n",
       "    .dataframe tbody tr th:only-of-type {\n",
       "        vertical-align: middle;\n",
       "    }\n",
       "\n",
       "    .dataframe tbody tr th {\n",
       "        vertical-align: top;\n",
       "    }\n",
       "\n",
       "    .dataframe thead th {\n",
       "        text-align: right;\n",
       "    }\n",
       "</style>\n",
       "<table border=\"1\" class=\"dataframe\">\n",
       "  <thead>\n",
       "    <tr style=\"text-align: right;\">\n",
       "      <th></th>\n",
       "      <th>iso_code</th>\n",
       "      <th>continent</th>\n",
       "      <th>location</th>\n",
       "    </tr>\n",
       "  </thead>\n",
       "  <tbody>\n",
       "    <tr>\n",
       "      <th>0</th>\n",
       "      <td>AFG</td>\n",
       "      <td>Asia</td>\n",
       "      <td>Afghanistan</td>\n",
       "    </tr>\n",
       "    <tr>\n",
       "      <th>1</th>\n",
       "      <td>OWID_AFR</td>\n",
       "      <td>Unknown</td>\n",
       "      <td>Africa</td>\n",
       "    </tr>\n",
       "    <tr>\n",
       "      <th>2</th>\n",
       "      <td>ALB</td>\n",
       "      <td>Europe</td>\n",
       "      <td>Albania</td>\n",
       "    </tr>\n",
       "    <tr>\n",
       "      <th>3</th>\n",
       "      <td>DZA</td>\n",
       "      <td>Africa</td>\n",
       "      <td>Algeria</td>\n",
       "    </tr>\n",
       "    <tr>\n",
       "      <th>4</th>\n",
       "      <td>AND</td>\n",
       "      <td>Europe</td>\n",
       "      <td>Andorra</td>\n",
       "    </tr>\n",
       "    <tr>\n",
       "      <th>...</th>\n",
       "      <td>...</td>\n",
       "      <td>...</td>\n",
       "      <td>...</td>\n",
       "    </tr>\n",
       "    <tr>\n",
       "      <th>232</th>\n",
       "      <td>WLF</td>\n",
       "      <td>Oceania</td>\n",
       "      <td>Wallis and Futuna</td>\n",
       "    </tr>\n",
       "    <tr>\n",
       "      <th>233</th>\n",
       "      <td>OWID_WRL</td>\n",
       "      <td>Unknown</td>\n",
       "      <td>World</td>\n",
       "    </tr>\n",
       "    <tr>\n",
       "      <th>234</th>\n",
       "      <td>YEM</td>\n",
       "      <td>Asia</td>\n",
       "      <td>Yemen</td>\n",
       "    </tr>\n",
       "    <tr>\n",
       "      <th>235</th>\n",
       "      <td>ZMB</td>\n",
       "      <td>Africa</td>\n",
       "      <td>Zambia</td>\n",
       "    </tr>\n",
       "    <tr>\n",
       "      <th>236</th>\n",
       "      <td>ZWE</td>\n",
       "      <td>Africa</td>\n",
       "      <td>Zimbabwe</td>\n",
       "    </tr>\n",
       "  </tbody>\n",
       "</table>\n",
       "<p>237 rows × 3 columns</p>\n",
       "</div>"
      ],
      "text/plain": [
       "     iso_code continent           location\n",
       "0         AFG      Asia        Afghanistan\n",
       "1    OWID_AFR   Unknown             Africa\n",
       "2         ALB    Europe            Albania\n",
       "3         DZA    Africa            Algeria\n",
       "4         AND    Europe            Andorra\n",
       "..        ...       ...                ...\n",
       "232       WLF   Oceania  Wallis and Futuna\n",
       "233  OWID_WRL   Unknown              World\n",
       "234       YEM      Asia              Yemen\n",
       "235       ZMB    Africa             Zambia\n",
       "236       ZWE    Africa           Zimbabwe\n",
       "\n",
       "[237 rows x 3 columns]"
      ]
     },
     "execution_count": 159,
     "metadata": {},
     "output_type": "execute_result"
    }
   ],
   "source": [
    "country_codes = df[['iso_code', 'continent','location']]\n",
    "country_codes = country_codes.drop_duplicates()\n",
    "country_codes['continent'] = country_codes['continent'].fillna('Unknown')\n",
    "country_codes = country_codes.reset_index(drop= True)\n",
    "country_codes"
   ]
  },
  {
   "cell_type": "markdown",
   "metadata": {},
   "source": [
    "## Updated Country names with codes"
   ]
  },
  {
   "cell_type": "code",
   "execution_count": 160,
   "metadata": {},
   "outputs": [],
   "source": [
    "country_codes.to_csv(\"../Data/Clean Data/Updated_Country_Codes.csv\", index= False)"
   ]
  },
  {
   "cell_type": "markdown",
   "metadata": {},
   "source": [
    "## Cleaning each columns of the DataFrame"
   ]
  },
  {
   "cell_type": "code",
   "execution_count": 161,
   "metadata": {},
   "outputs": [
    {
     "data": {
      "text/html": [
       "<div>\n",
       "<style scoped>\n",
       "    .dataframe tbody tr th:only-of-type {\n",
       "        vertical-align: middle;\n",
       "    }\n",
       "\n",
       "    .dataframe tbody tr th {\n",
       "        vertical-align: top;\n",
       "    }\n",
       "\n",
       "    .dataframe thead th {\n",
       "        text-align: right;\n",
       "    }\n",
       "</style>\n",
       "<table border=\"1\" class=\"dataframe\">\n",
       "  <thead>\n",
       "    <tr style=\"text-align: right;\">\n",
       "      <th></th>\n",
       "      <th>iso_code</th>\n",
       "      <th>date</th>\n",
       "      <th>total_cases</th>\n",
       "      <th>new_cases</th>\n",
       "      <th>new_cases_smoothed</th>\n",
       "      <th>total_deaths</th>\n",
       "      <th>new_deaths</th>\n",
       "      <th>new_deaths_smoothed</th>\n",
       "      <th>total_cases_per_million</th>\n",
       "      <th>new_cases_per_million</th>\n",
       "      <th>...</th>\n",
       "      <th>female_smokers</th>\n",
       "      <th>male_smokers</th>\n",
       "      <th>handwashing_facilities</th>\n",
       "      <th>hospital_beds_per_thousand</th>\n",
       "      <th>life_expectancy</th>\n",
       "      <th>human_development_index</th>\n",
       "      <th>excess_mortality_cumulative_absolute</th>\n",
       "      <th>excess_mortality_cumulative</th>\n",
       "      <th>excess_mortality</th>\n",
       "      <th>excess_mortality_cumulative_per_million</th>\n",
       "    </tr>\n",
       "  </thead>\n",
       "  <tbody>\n",
       "    <tr>\n",
       "      <th>0</th>\n",
       "      <td>AFG</td>\n",
       "      <td>2020-02-24</td>\n",
       "      <td>5.0</td>\n",
       "      <td>5.0</td>\n",
       "      <td>NaN</td>\n",
       "      <td>NaN</td>\n",
       "      <td>NaN</td>\n",
       "      <td>NaN</td>\n",
       "      <td>0.126</td>\n",
       "      <td>0.126</td>\n",
       "      <td>...</td>\n",
       "      <td>NaN</td>\n",
       "      <td>NaN</td>\n",
       "      <td>37.746</td>\n",
       "      <td>0.5</td>\n",
       "      <td>64.83</td>\n",
       "      <td>0.511</td>\n",
       "      <td>NaN</td>\n",
       "      <td>NaN</td>\n",
       "      <td>NaN</td>\n",
       "      <td>NaN</td>\n",
       "    </tr>\n",
       "    <tr>\n",
       "      <th>1</th>\n",
       "      <td>AFG</td>\n",
       "      <td>2020-02-25</td>\n",
       "      <td>5.0</td>\n",
       "      <td>0.0</td>\n",
       "      <td>NaN</td>\n",
       "      <td>NaN</td>\n",
       "      <td>NaN</td>\n",
       "      <td>NaN</td>\n",
       "      <td>0.126</td>\n",
       "      <td>0.000</td>\n",
       "      <td>...</td>\n",
       "      <td>NaN</td>\n",
       "      <td>NaN</td>\n",
       "      <td>37.746</td>\n",
       "      <td>0.5</td>\n",
       "      <td>64.83</td>\n",
       "      <td>0.511</td>\n",
       "      <td>NaN</td>\n",
       "      <td>NaN</td>\n",
       "      <td>NaN</td>\n",
       "      <td>NaN</td>\n",
       "    </tr>\n",
       "    <tr>\n",
       "      <th>2</th>\n",
       "      <td>AFG</td>\n",
       "      <td>2020-02-26</td>\n",
       "      <td>5.0</td>\n",
       "      <td>0.0</td>\n",
       "      <td>NaN</td>\n",
       "      <td>NaN</td>\n",
       "      <td>NaN</td>\n",
       "      <td>NaN</td>\n",
       "      <td>0.126</td>\n",
       "      <td>0.000</td>\n",
       "      <td>...</td>\n",
       "      <td>NaN</td>\n",
       "      <td>NaN</td>\n",
       "      <td>37.746</td>\n",
       "      <td>0.5</td>\n",
       "      <td>64.83</td>\n",
       "      <td>0.511</td>\n",
       "      <td>NaN</td>\n",
       "      <td>NaN</td>\n",
       "      <td>NaN</td>\n",
       "      <td>NaN</td>\n",
       "    </tr>\n",
       "    <tr>\n",
       "      <th>3</th>\n",
       "      <td>AFG</td>\n",
       "      <td>2020-02-27</td>\n",
       "      <td>5.0</td>\n",
       "      <td>0.0</td>\n",
       "      <td>NaN</td>\n",
       "      <td>NaN</td>\n",
       "      <td>NaN</td>\n",
       "      <td>NaN</td>\n",
       "      <td>0.126</td>\n",
       "      <td>0.000</td>\n",
       "      <td>...</td>\n",
       "      <td>NaN</td>\n",
       "      <td>NaN</td>\n",
       "      <td>37.746</td>\n",
       "      <td>0.5</td>\n",
       "      <td>64.83</td>\n",
       "      <td>0.511</td>\n",
       "      <td>NaN</td>\n",
       "      <td>NaN</td>\n",
       "      <td>NaN</td>\n",
       "      <td>NaN</td>\n",
       "    </tr>\n",
       "    <tr>\n",
       "      <th>4</th>\n",
       "      <td>AFG</td>\n",
       "      <td>2020-02-28</td>\n",
       "      <td>5.0</td>\n",
       "      <td>0.0</td>\n",
       "      <td>NaN</td>\n",
       "      <td>NaN</td>\n",
       "      <td>NaN</td>\n",
       "      <td>NaN</td>\n",
       "      <td>0.126</td>\n",
       "      <td>0.000</td>\n",
       "      <td>...</td>\n",
       "      <td>NaN</td>\n",
       "      <td>NaN</td>\n",
       "      <td>37.746</td>\n",
       "      <td>0.5</td>\n",
       "      <td>64.83</td>\n",
       "      <td>0.511</td>\n",
       "      <td>NaN</td>\n",
       "      <td>NaN</td>\n",
       "      <td>NaN</td>\n",
       "      <td>NaN</td>\n",
       "    </tr>\n",
       "  </tbody>\n",
       "</table>\n",
       "<p>5 rows × 63 columns</p>\n",
       "</div>"
      ],
      "text/plain": [
       "  iso_code        date  total_cases  new_cases  new_cases_smoothed  \\\n",
       "0      AFG  2020-02-24          5.0        5.0                 NaN   \n",
       "1      AFG  2020-02-25          5.0        0.0                 NaN   \n",
       "2      AFG  2020-02-26          5.0        0.0                 NaN   \n",
       "3      AFG  2020-02-27          5.0        0.0                 NaN   \n",
       "4      AFG  2020-02-28          5.0        0.0                 NaN   \n",
       "\n",
       "   total_deaths  new_deaths  new_deaths_smoothed  total_cases_per_million  \\\n",
       "0           NaN         NaN                  NaN                    0.126   \n",
       "1           NaN         NaN                  NaN                    0.126   \n",
       "2           NaN         NaN                  NaN                    0.126   \n",
       "3           NaN         NaN                  NaN                    0.126   \n",
       "4           NaN         NaN                  NaN                    0.126   \n",
       "\n",
       "   new_cases_per_million  ...  female_smokers  male_smokers  \\\n",
       "0                  0.126  ...             NaN           NaN   \n",
       "1                  0.000  ...             NaN           NaN   \n",
       "2                  0.000  ...             NaN           NaN   \n",
       "3                  0.000  ...             NaN           NaN   \n",
       "4                  0.000  ...             NaN           NaN   \n",
       "\n",
       "   handwashing_facilities  hospital_beds_per_thousand  life_expectancy  \\\n",
       "0                  37.746                         0.5            64.83   \n",
       "1                  37.746                         0.5            64.83   \n",
       "2                  37.746                         0.5            64.83   \n",
       "3                  37.746                         0.5            64.83   \n",
       "4                  37.746                         0.5            64.83   \n",
       "\n",
       "   human_development_index  excess_mortality_cumulative_absolute  \\\n",
       "0                    0.511                                   NaN   \n",
       "1                    0.511                                   NaN   \n",
       "2                    0.511                                   NaN   \n",
       "3                    0.511                                   NaN   \n",
       "4                    0.511                                   NaN   \n",
       "\n",
       "   excess_mortality_cumulative  excess_mortality  \\\n",
       "0                          NaN               NaN   \n",
       "1                          NaN               NaN   \n",
       "2                          NaN               NaN   \n",
       "3                          NaN               NaN   \n",
       "4                          NaN               NaN   \n",
       "\n",
       "   excess_mortality_cumulative_per_million  \n",
       "0                                      NaN  \n",
       "1                                      NaN  \n",
       "2                                      NaN  \n",
       "3                                      NaN  \n",
       "4                                      NaN  \n",
       "\n",
       "[5 rows x 63 columns]"
      ]
     },
     "execution_count": 161,
     "metadata": {},
     "output_type": "execute_result"
    }
   ],
   "source": [
    "df = df.drop(['continent', 'location'], axis = 1)\n",
    "df.head()"
   ]
  },
  {
   "cell_type": "code",
   "execution_count": 163,
   "metadata": {},
   "outputs": [
    {
     "data": {
      "text/plain": [
       "0              5\n",
       "1              5\n",
       "2              5\n",
       "3              5\n",
       "4              5\n",
       "           ...  \n",
       "132639    133187\n",
       "132640    133205\n",
       "132641    133242\n",
       "132642    133302\n",
       "132643    133329\n",
       "Name: total_cases, Length: 132644, dtype: int32"
      ]
     },
     "execution_count": 163,
     "metadata": {},
     "output_type": "execute_result"
    }
   ],
   "source": [
    "df['total_cases'] = df['total_cases'].fillna(0)\n",
    "df['total_cases'] = df['total_cases'].astype(int)\n",
    "df['total_cases']\n"
   ]
  },
  {
   "cell_type": "code",
   "execution_count": 165,
   "metadata": {},
   "outputs": [
    {
     "data": {
      "text/plain": [
       "0          5\n",
       "1          0\n",
       "2          0\n",
       "3          0\n",
       "4          0\n",
       "          ..\n",
       "132639    19\n",
       "132640    18\n",
       "132641    37\n",
       "132642    60\n",
       "132643    27\n",
       "Name: new_cases, Length: 132644, dtype: int32"
      ]
     },
     "execution_count": 165,
     "metadata": {},
     "output_type": "execute_result"
    }
   ],
   "source": [
    "df['new_cases'] = df['new_cases'].fillna(0)\n",
    "df['new_cases'] = df['new_cases'].astype(int)\n",
    "df['new_cases']\n"
   ]
  },
  {
   "cell_type": "code",
   "execution_count": 167,
   "metadata": {},
   "outputs": [
    {
     "data": {
      "text/plain": [
       "0          0.000\n",
       "1          0.000\n",
       "2          0.000\n",
       "3          0.000\n",
       "4          0.000\n",
       "           ...  \n",
       "132639    30.000\n",
       "132640    28.286\n",
       "132641    27.857\n",
       "132642    30.143\n",
       "132643    31.000\n",
       "Name: new_cases_smoothed, Length: 132644, dtype: float64"
      ]
     },
     "execution_count": 167,
     "metadata": {},
     "output_type": "execute_result"
    }
   ],
   "source": [
    "df['new_cases_smoothed'] = df['new_cases_smoothed'].fillna(0)\n",
    "df['new_cases_smoothed'] = df['new_cases_smoothed'].astype(float)\n",
    "df['new_cases_smoothed']\n"
   ]
  },
  {
   "cell_type": "code",
   "execution_count": 169,
   "metadata": {},
   "outputs": [
    {
     "data": {
      "text/plain": [
       "0            0\n",
       "1            0\n",
       "2            0\n",
       "3            0\n",
       "4            0\n",
       "          ... \n",
       "132639    4685\n",
       "132640    4690\n",
       "132641    4691\n",
       "132642    4694\n",
       "132643    4694\n",
       "Name: total_deaths, Length: 132644, dtype: int32"
      ]
     },
     "execution_count": 169,
     "metadata": {},
     "output_type": "execute_result"
    }
   ],
   "source": [
    "df['total_deaths'] = df['total_deaths'].fillna(0)\n",
    "df['total_deaths'] = df['total_deaths'].astype(int)\n",
    "df['total_deaths']\n"
   ]
  },
  {
   "cell_type": "code",
   "execution_count": 171,
   "metadata": {},
   "outputs": [
    {
     "data": {
      "text/plain": [
       "0         0\n",
       "1         0\n",
       "2         0\n",
       "3         0\n",
       "4         0\n",
       "         ..\n",
       "132639    0\n",
       "132640    5\n",
       "132641    1\n",
       "132642    3\n",
       "132643    0\n",
       "Name: new_deaths, Length: 132644, dtype: int32"
      ]
     },
     "execution_count": 171,
     "metadata": {},
     "output_type": "execute_result"
    }
   ],
   "source": [
    "df['new_deaths'] = df['new_deaths'].fillna(0)\n",
    "df['new_deaths'] = df['new_deaths'].astype(int)\n",
    "df['new_deaths']\n"
   ]
  },
  {
   "cell_type": "code",
   "execution_count": 173,
   "metadata": {},
   "outputs": [
    {
     "data": {
      "text/plain": [
       "0         0.000\n",
       "1         0.000\n",
       "2         0.000\n",
       "3         0.000\n",
       "4         0.000\n",
       "          ...  \n",
       "132639    1.000\n",
       "132640    1.571\n",
       "132641    1.143\n",
       "132642    1.429\n",
       "132643    1.286\n",
       "Name: new_deaths_smoothed, Length: 132644, dtype: float64"
      ]
     },
     "execution_count": 173,
     "metadata": {},
     "output_type": "execute_result"
    }
   ],
   "source": [
    "df['new_deaths_smoothed'] = df['new_deaths_smoothed'].fillna(0)\n",
    "df['new_deaths_smoothed'] = df['new_deaths_smoothed'].astype(float)\n",
    "df['new_deaths_smoothed']\n"
   ]
  },
  {
   "cell_type": "code",
   "execution_count": 175,
   "metadata": {},
   "outputs": [
    {
     "data": {
      "text/plain": [
       "0            0.126\n",
       "1            0.126\n",
       "2            0.126\n",
       "3            0.126\n",
       "4            0.126\n",
       "            ...   \n",
       "132639    8824.907\n",
       "132640    8826.099\n",
       "132641    8828.551\n",
       "132642    8832.526\n",
       "132643    8834.315\n",
       "Name: total_cases_per_million, Length: 132644, dtype: float64"
      ]
     },
     "execution_count": 175,
     "metadata": {},
     "output_type": "execute_result"
    }
   ],
   "source": [
    "df['total_cases_per_million'] = df['total_cases_per_million'].fillna(0)\n",
    "df['total_cases_per_million'] = df['total_cases_per_million'].astype(float)\n",
    "df['total_cases_per_million']\n"
   ]
  },
  {
   "cell_type": "code",
   "execution_count": 177,
   "metadata": {},
   "outputs": [
    {
     "data": {
      "text/plain": [
       "0         0.126\n",
       "1         0.000\n",
       "2         0.000\n",
       "3         0.000\n",
       "4         0.000\n",
       "          ...  \n",
       "132639    1.259\n",
       "132640    1.193\n",
       "132641    2.452\n",
       "132642    3.976\n",
       "132643    1.789\n",
       "Name: new_cases_per_million, Length: 132644, dtype: float64"
      ]
     },
     "execution_count": 177,
     "metadata": {},
     "output_type": "execute_result"
    }
   ],
   "source": [
    "df['new_cases_per_million'] = df['new_cases_per_million'].fillna(0)\n",
    "df['new_cases_per_million'] = df['new_cases_per_million'].astype(float)\n",
    "df['new_cases_per_million']\n"
   ]
  },
  {
   "cell_type": "code",
   "execution_count": 179,
   "metadata": {},
   "outputs": [
    {
     "data": {
      "text/plain": [
       "0         0.000\n",
       "1         0.000\n",
       "2         0.000\n",
       "3         0.000\n",
       "4         0.000\n",
       "          ...  \n",
       "132639    1.988\n",
       "132640    1.874\n",
       "132641    1.846\n",
       "132642    1.997\n",
       "132643    2.054\n",
       "Name: new_cases_smoothed_per_million, Length: 132644, dtype: float64"
      ]
     },
     "execution_count": 179,
     "metadata": {},
     "output_type": "execute_result"
    }
   ],
   "source": [
    "df['new_cases_smoothed_per_million'] = df['new_cases_smoothed_per_million'].fillna(0)\n",
    "df['new_cases_smoothed_per_million'] = df['new_cases_smoothed_per_million'].astype(float)\n",
    "df['new_cases_smoothed_per_million']\n"
   ]
  },
  {
   "cell_type": "code",
   "execution_count": 181,
   "metadata": {},
   "outputs": [
    {
     "data": {
      "text/plain": [
       "0           0.000\n",
       "1           0.000\n",
       "2           0.000\n",
       "3           0.000\n",
       "4           0.000\n",
       "           ...   \n",
       "132639    310.426\n",
       "132640    310.757\n",
       "132641    310.823\n",
       "132642    311.022\n",
       "132643    311.022\n",
       "Name: total_deaths_per_million, Length: 132644, dtype: float64"
      ]
     },
     "execution_count": 181,
     "metadata": {},
     "output_type": "execute_result"
    }
   ],
   "source": [
    "df['total_deaths_per_million'] = df['total_deaths_per_million'].fillna(0)\n",
    "df['total_deaths_per_million'] = df['total_deaths_per_million'].astype(float)\n",
    "df['total_deaths_per_million']\n"
   ]
  },
  {
   "cell_type": "code",
   "execution_count": 183,
   "metadata": {},
   "outputs": [
    {
     "data": {
      "text/plain": [
       "0         0.000\n",
       "1         0.000\n",
       "2         0.000\n",
       "3         0.000\n",
       "4         0.000\n",
       "          ...  \n",
       "132639    0.000\n",
       "132640    0.331\n",
       "132641    0.066\n",
       "132642    0.199\n",
       "132643    0.000\n",
       "Name: new_deaths_per_million, Length: 132644, dtype: float64"
      ]
     },
     "execution_count": 183,
     "metadata": {},
     "output_type": "execute_result"
    }
   ],
   "source": [
    "df['new_deaths_per_million'] = df['new_deaths_per_million'].fillna(0)\n",
    "df['new_deaths_per_million'] = df['new_deaths_per_million'].astype(float)\n",
    "df['new_deaths_per_million']\n"
   ]
  },
  {
   "cell_type": "code",
   "execution_count": 185,
   "metadata": {},
   "outputs": [
    {
     "data": {
      "text/plain": [
       "0         0.000\n",
       "1         0.000\n",
       "2         0.000\n",
       "3         0.000\n",
       "4         0.000\n",
       "          ...  \n",
       "132639    0.066\n",
       "132640    0.104\n",
       "132641    0.076\n",
       "132642    0.095\n",
       "132643    0.085\n",
       "Name: new_deaths_smoothed_per_million, Length: 132644, dtype: float64"
      ]
     },
     "execution_count": 185,
     "metadata": {},
     "output_type": "execute_result"
    }
   ],
   "source": [
    "df['new_deaths_smoothed_per_million'] = df['new_deaths_smoothed_per_million'].fillna(0)\n",
    "df['new_deaths_smoothed_per_million'] = df['new_deaths_smoothed_per_million'].astype(float)\n",
    "df['new_deaths_smoothed_per_million']\n",
    "\n"
   ]
  },
  {
   "cell_type": "code",
   "execution_count": 187,
   "metadata": {},
   "outputs": [
    {
     "data": {
      "text/plain": [
       "0         0.00\n",
       "1         0.00\n",
       "2         0.00\n",
       "3         0.00\n",
       "4         0.00\n",
       "          ... \n",
       "132639    0.75\n",
       "132640    0.00\n",
       "132641    0.00\n",
       "132642    0.00\n",
       "132643    0.00\n",
       "Name: reproduction_rate, Length: 132644, dtype: float64"
      ]
     },
     "execution_count": 187,
     "metadata": {},
     "output_type": "execute_result"
    }
   ],
   "source": [
    "df['reproduction_rate'] = df['reproduction_rate'].fillna(0)\n",
    "df['reproduction_rate'] = df['reproduction_rate'].astype(float)\n",
    "df['reproduction_rate']\n",
    "\n"
   ]
  },
  {
   "cell_type": "code",
   "execution_count": 188,
   "metadata": {},
   "outputs": [
    {
     "data": {
      "text/plain": [
       "116689"
      ]
     },
     "execution_count": 188,
     "metadata": {},
     "output_type": "execute_result"
    }
   ],
   "source": [
    "# df['icu_patients'] = df['icu_patients'].fillna(0)\n",
    "# df['icu_patients'] = df['icu_patients'].astype(int)\n",
    "# df['icu_patients']\n",
    "df['icu_patients'].isnull().sum()\n"
   ]
  },
  {
   "cell_type": "code",
   "execution_count": 189,
   "metadata": {},
   "outputs": [
    {
     "data": {
      "text/plain": [
       "116689"
      ]
     },
     "execution_count": 189,
     "metadata": {},
     "output_type": "execute_result"
    }
   ],
   "source": [
    "# df['icu_patients_per_million'] = df['icu_patients_per_million'].fillna(0)\n",
    "# df['icu_patients_per_million'] = df['icu_patients_per_million'].astype(float)\n",
    "# df['icu_patients_per_million']\n",
    "df['icu_patients_per_million'].isnull().sum()\n"
   ]
  },
  {
   "cell_type": "code",
   "execution_count": 190,
   "metadata": {},
   "outputs": [
    {
     "data": {
      "text/plain": [
       "113945"
      ]
     },
     "execution_count": 190,
     "metadata": {},
     "output_type": "execute_result"
    }
   ],
   "source": [
    "# df['hosp_patients'] = df['hosp_patients'].fillna(0)\n",
    "# df['hosp_patients'] = df['hosp_patients'].astype(int)\n",
    "# df['hosp_patients']\n",
    "df['hosp_patients'].isnull().sum()"
   ]
  },
  {
   "cell_type": "code",
   "execution_count": 191,
   "metadata": {},
   "outputs": [
    {
     "data": {
      "text/plain": [
       "113945"
      ]
     },
     "execution_count": 191,
     "metadata": {},
     "output_type": "execute_result"
    }
   ],
   "source": [
    "# df['hosp_patients_per_million'] = df['hosp_patients_per_million'].fillna(0)\n",
    "# df['hosp_patients_per_million'] = df['hosp_patients_per_million'].astype(float)\n",
    "# df['hosp_patients_per_million']\n",
    "df['hosp_patients_per_million'].isnull().sum()"
   ]
  },
  {
   "cell_type": "code",
   "execution_count": 192,
   "metadata": {},
   "outputs": [
    {
     "data": {
      "text/plain": [
       "131304"
      ]
     },
     "execution_count": 192,
     "metadata": {},
     "output_type": "execute_result"
    }
   ],
   "source": [
    "# df['weekly_icu_admissions'] = df['weekly_icu_admissions'].fillna(0)\n",
    "# df['weekly_icu_admissions'] = df['weekly_icu_admissions'].astype(float)\n",
    "# df['weekly_icu_admissions']\n",
    "df['weekly_icu_admissions'].isnull().sum()\n"
   ]
  },
  {
   "cell_type": "code",
   "execution_count": 193,
   "metadata": {},
   "outputs": [
    {
     "data": {
      "text/plain": [
       "131304"
      ]
     },
     "execution_count": 193,
     "metadata": {},
     "output_type": "execute_result"
    }
   ],
   "source": [
    "# df['weekly_icu_admissions_per_million'] = df['weekly_icu_admissions_per_million'].fillna(0)\n",
    "# df['weekly_icu_admissions_per_million'] = df['weekly_icu_admissions_per_million'].astype(float)\n",
    "# df['weekly_icu_admissions_per_million']\n",
    "df['weekly_icu_admissions_per_million'].isnull().sum()"
   ]
  },
  {
   "cell_type": "code",
   "execution_count": 151,
   "metadata": {},
   "outputs": [
    {
     "data": {
      "text/plain": [
       "130517"
      ]
     },
     "execution_count": 151,
     "metadata": {},
     "output_type": "execute_result"
    }
   ],
   "source": [
    "df['weekly_hosp_admissions'].isnull().sum()"
   ]
  },
  {
   "cell_type": "code",
   "execution_count": 197,
   "metadata": {},
   "outputs": [
    {
     "data": {
      "text/plain": [
       "130517"
      ]
     },
     "execution_count": 197,
     "metadata": {},
     "output_type": "execute_result"
    }
   ],
   "source": [
    "df['weekly_hosp_admissions_per_million'].isnull().sum()"
   ]
  },
  {
   "cell_type": "code",
   "execution_count": 230,
   "metadata": {},
   "outputs": [
    {
     "data": {
      "text/plain": [
       "99253"
      ]
     },
     "execution_count": 230,
     "metadata": {},
     "output_type": "execute_result"
    }
   ],
   "source": [
    "df['total_vaccinations_per_hundred'].isnull().sum()"
   ]
  },
  {
   "cell_type": "code",
   "execution_count": 231,
   "metadata": {},
   "outputs": [
    {
     "data": {
      "text/plain": [
       "100801"
      ]
     },
     "execution_count": 231,
     "metadata": {},
     "output_type": "execute_result"
    }
   ],
   "source": [
    "\n",
    "df['people_vaccinated_per_hundred'].isnull().sum()"
   ]
  },
  {
   "cell_type": "code",
   "execution_count": 232,
   "metadata": {},
   "outputs": [
    {
     "data": {
      "text/plain": [
       "103790"
      ]
     },
     "execution_count": 232,
     "metadata": {},
     "output_type": "execute_result"
    }
   ],
   "source": [
    "df['people_fully_vaccinated_per_hundred'].isnull().sum()"
   ]
  },
  {
   "cell_type": "code",
   "execution_count": 233,
   "metadata": {},
   "outputs": [
    {
     "data": {
      "text/plain": [
       "126789"
      ]
     },
     "execution_count": 233,
     "metadata": {},
     "output_type": "execute_result"
    }
   ],
   "source": [
    "df['total_boosters_per_hundred'].isnull().sum()"
   ]
  },
  {
   "cell_type": "code",
   "execution_count": 239,
   "metadata": {},
   "outputs": [
    {
     "data": {
      "text/plain": [
       "940"
      ]
     },
     "execution_count": 239,
     "metadata": {},
     "output_type": "execute_result"
    }
   ],
   "source": [
    "df['population'].isnull().sum()"
   ]
  },
  {
   "cell_type": "code",
   "execution_count": null,
   "metadata": {},
   "outputs": [],
   "source": []
  },
  {
   "cell_type": "code",
   "execution_count": 196,
   "metadata": {},
   "outputs": [
    {
     "data": {
      "text/plain": [
       "0            0\n",
       "1            0\n",
       "2            0\n",
       "3            0\n",
       "4            0\n",
       "          ... \n",
       "132639    1159\n",
       "132640       0\n",
       "132641       0\n",
       "132642       0\n",
       "132643       0\n",
       "Name: new_tests, Length: 132644, dtype: int32"
      ]
     },
     "execution_count": 196,
     "metadata": {},
     "output_type": "execute_result"
    }
   ],
   "source": [
    "df['new_tests'] = df['new_tests'].fillna(0)\n",
    "df['new_tests'] = df['new_tests'].astype(int)\n",
    "df['new_tests']"
   ]
  },
  {
   "cell_type": "code",
   "execution_count": 199,
   "metadata": {},
   "outputs": [
    {
     "data": {
      "text/plain": [
       "0               0\n",
       "1               0\n",
       "2               0\n",
       "3               0\n",
       "4               0\n",
       "           ...   \n",
       "132639    1393065\n",
       "132640          0\n",
       "132641          0\n",
       "132642          0\n",
       "132643          0\n",
       "Name: total_tests, Length: 132644, dtype: int32"
      ]
     },
     "execution_count": 199,
     "metadata": {},
     "output_type": "execute_result"
    }
   ],
   "source": [
    "df['total_tests'] = df['total_tests'].fillna(0)\n",
    "df['total_tests'] = df['total_tests'].astype(int)\n",
    "df['total_tests']"
   ]
  },
  {
   "cell_type": "code",
   "execution_count": 204,
   "metadata": {},
   "outputs": [
    {
     "data": {
      "text/plain": [
       "0          0.000\n",
       "1          0.000\n",
       "2          0.000\n",
       "3          0.000\n",
       "4          0.000\n",
       "           ...  \n",
       "132639    92.304\n",
       "132640     0.000\n",
       "132641     0.000\n",
       "132642     0.000\n",
       "132643     0.000\n",
       "Name: total_tests_per_thousand, Length: 132644, dtype: float64"
      ]
     },
     "execution_count": 204,
     "metadata": {},
     "output_type": "execute_result"
    }
   ],
   "source": [
    "df['total_tests_per_thousand'] = df['total_tests_per_thousand'].fillna(0)\n",
    "df['total_tests_per_thousand'] = df['total_tests_per_thousand'].astype(float)\n",
    "df['total_tests_per_thousand']"
   ]
  },
  {
   "cell_type": "code",
   "execution_count": 206,
   "metadata": {},
   "outputs": [
    {
     "data": {
      "text/plain": [
       "0            0\n",
       "1            0\n",
       "2            0\n",
       "3            0\n",
       "4            0\n",
       "          ... \n",
       "132639    2879\n",
       "132640       0\n",
       "132641       0\n",
       "132642       0\n",
       "132643       0\n",
       "Name: new_tests_smoothed, Length: 132644, dtype: int32"
      ]
     },
     "execution_count": 206,
     "metadata": {},
     "output_type": "execute_result"
    }
   ],
   "source": [
    "df['new_tests_smoothed'] = df['new_tests_smoothed'].fillna(0)\n",
    "df['new_tests_smoothed'] = df['new_tests_smoothed'].astype(int)\n",
    "df['new_tests_smoothed']"
   ]
  },
  {
   "cell_type": "code",
   "execution_count": 208,
   "metadata": {},
   "outputs": [
    {
     "data": {
      "text/plain": [
       "0         0.000\n",
       "1         0.000\n",
       "2         0.000\n",
       "3         0.000\n",
       "4         0.000\n",
       "          ...  \n",
       "132639    0.191\n",
       "132640    0.000\n",
       "132641    0.000\n",
       "132642    0.000\n",
       "132643    0.000\n",
       "Name: new_tests_smoothed_per_thousand, Length: 132644, dtype: float64"
      ]
     },
     "execution_count": 208,
     "metadata": {},
     "output_type": "execute_result"
    }
   ],
   "source": [
    "df['new_tests_smoothed_per_thousand'] = df['new_tests_smoothed_per_thousand'].fillna(0)\n",
    "df['new_tests_smoothed_per_thousand'] = df['new_tests_smoothed_per_thousand'].astype(float)\n",
    "df['new_tests_smoothed_per_thousand']"
   ]
  },
  {
   "cell_type": "code",
   "execution_count": 210,
   "metadata": {},
   "outputs": [
    {
     "data": {
      "text/plain": [
       "0         0.00\n",
       "1         0.00\n",
       "2         0.00\n",
       "3         0.00\n",
       "4         0.00\n",
       "          ... \n",
       "132639    0.01\n",
       "132640    0.00\n",
       "132641    0.00\n",
       "132642    0.00\n",
       "132643    0.00\n",
       "Name: positive_rate, Length: 132644, dtype: float64"
      ]
     },
     "execution_count": 210,
     "metadata": {},
     "output_type": "execute_result"
    }
   ],
   "source": [
    "df['positive_rate'] = df['positive_rate'].fillna(0)\n",
    "df['positive_rate'] = df['positive_rate'].astype(float)\n",
    "df['positive_rate']"
   ]
  },
  {
   "cell_type": "code",
   "execution_count": 212,
   "metadata": {},
   "outputs": [
    {
     "data": {
      "text/plain": [
       "0          0.0\n",
       "1          0.0\n",
       "2          0.0\n",
       "3          0.0\n",
       "4          0.0\n",
       "          ... \n",
       "132639    96.0\n",
       "132640     0.0\n",
       "132641     0.0\n",
       "132642     0.0\n",
       "132643     0.0\n",
       "Name: tests_per_case, Length: 132644, dtype: float64"
      ]
     },
     "execution_count": 212,
     "metadata": {},
     "output_type": "execute_result"
    }
   ],
   "source": [
    "df['tests_per_case'] = df['tests_per_case'].fillna(0)\n",
    "df['tests_per_case'] = df['tests_per_case'].astype(float)\n",
    "df['tests_per_case']"
   ]
  },
  {
   "cell_type": "code",
   "execution_count": 214,
   "metadata": {},
   "outputs": [
    {
     "data": {
      "text/plain": [
       "0                 Unknown\n",
       "1                 Unknown\n",
       "2                 Unknown\n",
       "3                 Unknown\n",
       "4                 Unknown\n",
       "               ...       \n",
       "132639    tests performed\n",
       "132640            Unknown\n",
       "132641            Unknown\n",
       "132642            Unknown\n",
       "132643            Unknown\n",
       "Name: tests_units, Length: 132644, dtype: object"
      ]
     },
     "execution_count": 214,
     "metadata": {},
     "output_type": "execute_result"
    }
   ],
   "source": [
    "df['tests_units'] = df['tests_units'].fillna(\"Unknown\")\n",
    "df['tests_units']"
   ]
  },
  {
   "cell_type": "code",
   "execution_count": 216,
   "metadata": {},
   "outputs": [
    {
     "data": {
      "text/plain": [
       "0               0\n",
       "1               0\n",
       "2               0\n",
       "3               0\n",
       "4               0\n",
       "           ...   \n",
       "132639    6021461\n",
       "132640    6034324\n",
       "132641    6056713\n",
       "132642    6079213\n",
       "132643    6101678\n",
       "Name: total_vaccinations, Length: 132644, dtype: int32"
      ]
     },
     "execution_count": 216,
     "metadata": {},
     "output_type": "execute_result"
    }
   ],
   "source": [
    "df['total_vaccinations'] = df['total_vaccinations'].fillna(0)\n",
    "df['total_vaccinations'] = df['total_vaccinations'].astype(int)\n",
    "df['total_vaccinations']"
   ]
  },
  {
   "cell_type": "code",
   "execution_count": 218,
   "metadata": {},
   "outputs": [
    {
     "data": {
      "text/plain": [
       "0               0\n",
       "1               0\n",
       "2               0\n",
       "3               0\n",
       "4               0\n",
       "           ...   \n",
       "132639    3372721\n",
       "132640    3380245\n",
       "132641    3394826\n",
       "132642    3409464\n",
       "132643    3423588\n",
       "Name: people_vaccinated, Length: 132644, dtype: int32"
      ]
     },
     "execution_count": 218,
     "metadata": {},
     "output_type": "execute_result"
    }
   ],
   "source": [
    "df['people_vaccinated'] = df['people_vaccinated'].fillna(0)\n",
    "df['people_vaccinated'] = df['people_vaccinated'].astype(int)\n",
    "df['people_vaccinated']"
   ]
  },
  {
   "cell_type": "code",
   "execution_count": 220,
   "metadata": {},
   "outputs": [
    {
     "data": {
      "text/plain": [
       "0               0\n",
       "1               0\n",
       "2               0\n",
       "3               0\n",
       "4               0\n",
       "           ...   \n",
       "132639    2648740\n",
       "132640    2654079\n",
       "132641    2661887\n",
       "132642    2669749\n",
       "132643    2678090\n",
       "Name: people_fully_vaccinated, Length: 132644, dtype: int32"
      ]
     },
     "execution_count": 220,
     "metadata": {},
     "output_type": "execute_result"
    }
   ],
   "source": [
    "df['people_fully_vaccinated'] = df['people_fully_vaccinated'].fillna(0)\n",
    "df['people_fully_vaccinated'] = df['people_fully_vaccinated'].astype(int)\n",
    "df['people_fully_vaccinated']"
   ]
  },
  {
   "cell_type": "code",
   "execution_count": 222,
   "metadata": {},
   "outputs": [
    {
     "data": {
      "text/plain": [
       "0         0\n",
       "1         0\n",
       "2         0\n",
       "3         0\n",
       "4         0\n",
       "         ..\n",
       "132639    0\n",
       "132640    0\n",
       "132641    0\n",
       "132642    0\n",
       "132643    0\n",
       "Name: total_boosters, Length: 132644, dtype: int32"
      ]
     },
     "execution_count": 222,
     "metadata": {},
     "output_type": "execute_result"
    }
   ],
   "source": [
    "df['total_boosters'] = df['total_boosters'].fillna(0)\n",
    "df['total_boosters'] = df['total_boosters'].astype(int)\n",
    "df['total_boosters']"
   ]
  },
  {
   "cell_type": "code",
   "execution_count": 226,
   "metadata": {},
   "outputs": [
    {
     "data": {
      "text/plain": [
       "0             0\n",
       "1             0\n",
       "2             0\n",
       "3             0\n",
       "4             0\n",
       "          ...  \n",
       "132639    14436\n",
       "132640    12863\n",
       "132641    22389\n",
       "132642    22500\n",
       "132643    22465\n",
       "Name: new_vaccinations, Length: 132644, dtype: int32"
      ]
     },
     "execution_count": 226,
     "metadata": {},
     "output_type": "execute_result"
    }
   ],
   "source": [
    "df['new_vaccinations'] = df['new_vaccinations'].fillna(0)\n",
    "df['new_vaccinations'] = df['new_vaccinations'].astype(int)\n",
    "df['new_vaccinations']"
   ]
  },
  {
   "cell_type": "code",
   "execution_count": 228,
   "metadata": {},
   "outputs": [
    {
     "data": {
      "text/plain": [
       "0             0\n",
       "1             0\n",
       "2             0\n",
       "3             0\n",
       "4             0\n",
       "          ...  \n",
       "132639    15696\n",
       "132640    15858\n",
       "132641    16350\n",
       "132642    17168\n",
       "132643    17988\n",
       "Name: new_vaccinations_smoothed, Length: 132644, dtype: int32"
      ]
     },
     "execution_count": 228,
     "metadata": {},
     "output_type": "execute_result"
    }
   ],
   "source": [
    "df['new_vaccinations_smoothed'] = df['new_vaccinations_smoothed'].fillna(0)\n",
    "df['new_vaccinations_smoothed'] = df['new_vaccinations_smoothed'].astype(int)\n",
    "df['new_vaccinations_smoothed']"
   ]
  },
  {
   "cell_type": "code",
   "execution_count": 236,
   "metadata": {},
   "outputs": [
    {
     "data": {
      "text/plain": [
       "0            0\n",
       "1            0\n",
       "2            0\n",
       "3            0\n",
       "4            0\n",
       "          ... \n",
       "132639    1040\n",
       "132640    1051\n",
       "132641    1083\n",
       "132642    1138\n",
       "132643    1192\n",
       "Name: new_vaccinations_smoothed_per_million, Length: 132644, dtype: int32"
      ]
     },
     "execution_count": 236,
     "metadata": {},
     "output_type": "execute_result"
    }
   ],
   "source": [
    "df['new_vaccinations_smoothed_per_million'] = df['new_vaccinations_smoothed_per_million'].fillna(0)\n",
    "df['new_vaccinations_smoothed_per_million'] = df['new_vaccinations_smoothed_per_million'].astype(int)\n",
    "df['new_vaccinations_smoothed_per_million']"
   ]
  },
  {
   "cell_type": "code",
   "execution_count": 238,
   "metadata": {},
   "outputs": [
    {
     "data": {
      "text/plain": [
       "0         8.33\n",
       "1         8.33\n",
       "2         8.33\n",
       "3         8.33\n",
       "4         8.33\n",
       "          ... \n",
       "132639    0.00\n",
       "132640    0.00\n",
       "132641    0.00\n",
       "132642    0.00\n",
       "132643    0.00\n",
       "Name: stringency_index, Length: 132644, dtype: float64"
      ]
     },
     "execution_count": 238,
     "metadata": {},
     "output_type": "execute_result"
    }
   ],
   "source": [
    "df['stringency_index'] = df['stringency_index'].fillna(0)\n",
    "df['stringency_index'] = df['stringency_index'].astype(float)\n",
    "df['stringency_index']"
   ]
  },
  {
   "cell_type": "code",
   "execution_count": 241,
   "metadata": {},
   "outputs": [
    {
     "data": {
      "text/plain": [
       "0         39835428\n",
       "1         39835428\n",
       "2         39835428\n",
       "3         39835428\n",
       "4         39835428\n",
       "            ...   \n",
       "132639    15092171\n",
       "132640    15092171\n",
       "132641    15092171\n",
       "132642    15092171\n",
       "132643    15092171\n",
       "Name: population, Length: 132644, dtype: int32"
      ]
     },
     "execution_count": 241,
     "metadata": {},
     "output_type": "execute_result"
    }
   ],
   "source": [
    "df['population'] = df['population'].fillna(0)\n",
    "df['population'] = df['population'].astype(int)\n",
    "df['population']"
   ]
  },
  {
   "cell_type": "code",
   "execution_count": 243,
   "metadata": {},
   "outputs": [
    {
     "data": {
      "text/plain": [
       "0         54.422\n",
       "1         54.422\n",
       "2         54.422\n",
       "3         54.422\n",
       "4         54.422\n",
       "           ...  \n",
       "132639    42.729\n",
       "132640    42.729\n",
       "132641    42.729\n",
       "132642    42.729\n",
       "132643    42.729\n",
       "Name: population_density, Length: 132644, dtype: float64"
      ]
     },
     "execution_count": 243,
     "metadata": {},
     "output_type": "execute_result"
    }
   ],
   "source": [
    "df['population_density'] = df['population_density'].fillna(0)\n",
    "df['population_density'] = df['population_density'].astype(float)\n",
    "df['population_density']\n"
   ]
  },
  {
   "cell_type": "code",
   "execution_count": 245,
   "metadata": {},
   "outputs": [
    {
     "data": {
      "text/plain": [
       "0         18.6\n",
       "1         18.6\n",
       "2         18.6\n",
       "3         18.6\n",
       "4         18.6\n",
       "          ... \n",
       "132639    19.6\n",
       "132640    19.6\n",
       "132641    19.6\n",
       "132642    19.6\n",
       "132643    19.6\n",
       "Name: median_age, Length: 132644, dtype: float64"
      ]
     },
     "execution_count": 245,
     "metadata": {},
     "output_type": "execute_result"
    }
   ],
   "source": [
    "df['median_age'] = df['median_age'].fillna(0)\n",
    "df['median_age'] = df['median_age'].astype(float)\n",
    "df['median_age']"
   ]
  },
  {
   "cell_type": "code",
   "execution_count": 247,
   "metadata": {},
   "outputs": [
    {
     "data": {
      "text/plain": [
       "0         2.581\n",
       "1         2.581\n",
       "2         2.581\n",
       "3         2.581\n",
       "4         2.581\n",
       "          ...  \n",
       "132639    2.822\n",
       "132640    2.822\n",
       "132641    2.822\n",
       "132642    2.822\n",
       "132643    2.822\n",
       "Name: aged_65_older, Length: 132644, dtype: float64"
      ]
     },
     "execution_count": 247,
     "metadata": {},
     "output_type": "execute_result"
    }
   ],
   "source": [
    "df['aged_65_older'] = df['aged_65_older'].fillna(0)\n",
    "df['aged_65_older'] = df['aged_65_older'].astype(float)\n",
    "df['aged_65_older']"
   ]
  },
  {
   "cell_type": "code",
   "execution_count": 249,
   "metadata": {},
   "outputs": [
    {
     "data": {
      "text/plain": [
       "0         1.337\n",
       "1         1.337\n",
       "2         1.337\n",
       "3         1.337\n",
       "4         1.337\n",
       "          ...  \n",
       "132639    1.882\n",
       "132640    1.882\n",
       "132641    1.882\n",
       "132642    1.882\n",
       "132643    1.882\n",
       "Name: aged_70_older, Length: 132644, dtype: float64"
      ]
     },
     "execution_count": 249,
     "metadata": {},
     "output_type": "execute_result"
    }
   ],
   "source": [
    "df['aged_70_older'] = df['aged_70_older'].fillna(0)\n",
    "df['aged_70_older'] = df['aged_70_older'].astype(float)\n",
    "df['aged_70_older']"
   ]
  },
  {
   "cell_type": "code",
   "execution_count": 251,
   "metadata": {},
   "outputs": [
    {
     "data": {
      "text/plain": [
       "0         1803.987\n",
       "1         1803.987\n",
       "2         1803.987\n",
       "3         1803.987\n",
       "4         1803.987\n",
       "            ...   \n",
       "132639    1899.775\n",
       "132640    1899.775\n",
       "132641    1899.775\n",
       "132642    1899.775\n",
       "132643    1899.775\n",
       "Name: gdp_per_capita, Length: 132644, dtype: float64"
      ]
     },
     "execution_count": 251,
     "metadata": {},
     "output_type": "execute_result"
    }
   ],
   "source": [
    "df['gdp_per_capita'] = df['gdp_per_capita'].fillna(0)\n",
    "df['gdp_per_capita'] = df['gdp_per_capita'].astype(float)\n",
    "df['gdp_per_capita']"
   ]
  },
  {
   "cell_type": "code",
   "execution_count": 253,
   "metadata": {},
   "outputs": [
    {
     "data": {
      "text/plain": [
       "0          0.0\n",
       "1          0.0\n",
       "2          0.0\n",
       "3          0.0\n",
       "4          0.0\n",
       "          ... \n",
       "132639    21.4\n",
       "132640    21.4\n",
       "132641    21.4\n",
       "132642    21.4\n",
       "132643    21.4\n",
       "Name: extreme_poverty, Length: 132644, dtype: float64"
      ]
     },
     "execution_count": 253,
     "metadata": {},
     "output_type": "execute_result"
    }
   ],
   "source": [
    "df['extreme_poverty'] = df['extreme_poverty'].fillna(0)\n",
    "df['extreme_poverty'] = df['extreme_poverty'].astype(float)\n",
    "df['extreme_poverty']"
   ]
  },
  {
   "cell_type": "code",
   "execution_count": 255,
   "metadata": {},
   "outputs": [
    {
     "data": {
      "text/plain": [
       "0         597.029\n",
       "1         597.029\n",
       "2         597.029\n",
       "3         597.029\n",
       "4         597.029\n",
       "           ...   \n",
       "132639    307.846\n",
       "132640    307.846\n",
       "132641    307.846\n",
       "132642    307.846\n",
       "132643    307.846\n",
       "Name: cardiovasc_death_rate, Length: 132644, dtype: float64"
      ]
     },
     "execution_count": 255,
     "metadata": {},
     "output_type": "execute_result"
    }
   ],
   "source": [
    "df['cardiovasc_death_rate'] = df['cardiovasc_death_rate'].fillna(0)\n",
    "df['cardiovasc_death_rate'] = df['cardiovasc_death_rate'].astype(float)\n",
    "df['cardiovasc_death_rate']"
   ]
  },
  {
   "cell_type": "code",
   "execution_count": 257,
   "metadata": {},
   "outputs": [
    {
     "data": {
      "text/plain": [
       "0         9.59\n",
       "1         9.59\n",
       "2         9.59\n",
       "3         9.59\n",
       "4         9.59\n",
       "          ... \n",
       "132639    1.82\n",
       "132640    1.82\n",
       "132641    1.82\n",
       "132642    1.82\n",
       "132643    1.82\n",
       "Name: diabetes_prevalence, Length: 132644, dtype: float64"
      ]
     },
     "execution_count": 257,
     "metadata": {},
     "output_type": "execute_result"
    }
   ],
   "source": [
    "df['diabetes_prevalence'] = df['diabetes_prevalence'].fillna(0)\n",
    "df['diabetes_prevalence'] = df['diabetes_prevalence'].astype(float)\n",
    "df['diabetes_prevalence']"
   ]
  },
  {
   "cell_type": "code",
   "execution_count": 259,
   "metadata": {},
   "outputs": [
    {
     "data": {
      "text/plain": [
       "0         0.0\n",
       "1         0.0\n",
       "2         0.0\n",
       "3         0.0\n",
       "4         0.0\n",
       "         ... \n",
       "132639    1.6\n",
       "132640    1.6\n",
       "132641    1.6\n",
       "132642    1.6\n",
       "132643    1.6\n",
       "Name: female_smokers, Length: 132644, dtype: float64"
      ]
     },
     "execution_count": 259,
     "metadata": {},
     "output_type": "execute_result"
    }
   ],
   "source": [
    "df['female_smokers'] = df['female_smokers'].fillna(0)\n",
    "df['female_smokers'] = df['female_smokers'].astype(float)\n",
    "df['female_smokers']"
   ]
  },
  {
   "cell_type": "code",
   "execution_count": 261,
   "metadata": {},
   "outputs": [
    {
     "data": {
      "text/plain": [
       "0          0.0\n",
       "1          0.0\n",
       "2          0.0\n",
       "3          0.0\n",
       "4          0.0\n",
       "          ... \n",
       "132639    30.7\n",
       "132640    30.7\n",
       "132641    30.7\n",
       "132642    30.7\n",
       "132643    30.7\n",
       "Name: male_smokers, Length: 132644, dtype: float64"
      ]
     },
     "execution_count": 261,
     "metadata": {},
     "output_type": "execute_result"
    }
   ],
   "source": [
    "df['male_smokers'] = df['male_smokers'].fillna(0)\n",
    "df['male_smokers'] = df['male_smokers'].astype(float)\n",
    "df['male_smokers']"
   ]
  },
  {
   "cell_type": "code",
   "execution_count": 263,
   "metadata": {},
   "outputs": [
    {
     "data": {
      "text/plain": [
       "0         37.746\n",
       "1         37.746\n",
       "2         37.746\n",
       "3         37.746\n",
       "4         37.746\n",
       "           ...  \n",
       "132639    36.791\n",
       "132640    36.791\n",
       "132641    36.791\n",
       "132642    36.791\n",
       "132643    36.791\n",
       "Name: handwashing_facilities, Length: 132644, dtype: float64"
      ]
     },
     "execution_count": 263,
     "metadata": {},
     "output_type": "execute_result"
    }
   ],
   "source": [
    "df['handwashing_facilities'] = df['handwashing_facilities'].fillna(0)\n",
    "df['handwashing_facilities'] = df['handwashing_facilities'].astype(float)\n",
    "df['handwashing_facilities']"
   ]
  },
  {
   "cell_type": "code",
   "execution_count": 265,
   "metadata": {},
   "outputs": [
    {
     "data": {
      "text/plain": [
       "0         0.5\n",
       "1         0.5\n",
       "2         0.5\n",
       "3         0.5\n",
       "4         0.5\n",
       "         ... \n",
       "132639    1.7\n",
       "132640    1.7\n",
       "132641    1.7\n",
       "132642    1.7\n",
       "132643    1.7\n",
       "Name: hospital_beds_per_thousand, Length: 132644, dtype: float64"
      ]
     },
     "execution_count": 265,
     "metadata": {},
     "output_type": "execute_result"
    }
   ],
   "source": [
    "df['hospital_beds_per_thousand'] = df['hospital_beds_per_thousand'].fillna(0)\n",
    "df['hospital_beds_per_thousand'] = df['hospital_beds_per_thousand'].astype(float)\n",
    "df['hospital_beds_per_thousand']"
   ]
  },
  {
   "cell_type": "code",
   "execution_count": 267,
   "metadata": {},
   "outputs": [
    {
     "data": {
      "text/plain": [
       "0         64.83\n",
       "1         64.83\n",
       "2         64.83\n",
       "3         64.83\n",
       "4         64.83\n",
       "          ...  \n",
       "132639    61.49\n",
       "132640    61.49\n",
       "132641    61.49\n",
       "132642    61.49\n",
       "132643    61.49\n",
       "Name: life_expectancy, Length: 132644, dtype: float64"
      ]
     },
     "execution_count": 267,
     "metadata": {},
     "output_type": "execute_result"
    }
   ],
   "source": [
    "df['life_expectancy'] = df['life_expectancy'].fillna(0)\n",
    "df['life_expectancy'] = df['life_expectancy'].astype(float)\n",
    "df['life_expectancy']"
   ]
  },
  {
   "cell_type": "code",
   "execution_count": 269,
   "metadata": {},
   "outputs": [
    {
     "data": {
      "text/plain": [
       "0         0.511\n",
       "1         0.511\n",
       "2         0.511\n",
       "3         0.511\n",
       "4         0.511\n",
       "          ...  \n",
       "132639    0.571\n",
       "132640    0.571\n",
       "132641    0.571\n",
       "132642    0.571\n",
       "132643    0.571\n",
       "Name: human_development_index, Length: 132644, dtype: float64"
      ]
     },
     "execution_count": 269,
     "metadata": {},
     "output_type": "execute_result"
    }
   ],
   "source": [
    "df['human_development_index'] = df['human_development_index'].fillna(0)\n",
    "df['human_development_index'] = df['human_development_index'].astype(float)\n",
    "df['human_development_index']"
   ]
  },
  {
   "cell_type": "code",
   "execution_count": 270,
   "metadata": {},
   "outputs": [
    {
     "data": {
      "text/plain": [
       "127988"
      ]
     },
     "execution_count": 270,
     "metadata": {},
     "output_type": "execute_result"
    }
   ],
   "source": [
    "df['excess_mortality_cumulative_absolute'].isnull().sum()"
   ]
  },
  {
   "cell_type": "code",
   "execution_count": 271,
   "metadata": {},
   "outputs": [
    {
     "data": {
      "text/plain": [
       "127988"
      ]
     },
     "execution_count": 271,
     "metadata": {},
     "output_type": "execute_result"
    }
   ],
   "source": [
    "df['excess_mortality_cumulative'].isnull().sum()"
   ]
  },
  {
   "cell_type": "code",
   "execution_count": 272,
   "metadata": {},
   "outputs": [
    {
     "data": {
      "text/plain": [
       "127988"
      ]
     },
     "execution_count": 272,
     "metadata": {},
     "output_type": "execute_result"
    }
   ],
   "source": [
    "df['excess_mortality'].isnull().sum()"
   ]
  },
  {
   "cell_type": "code",
   "execution_count": 273,
   "metadata": {},
   "outputs": [
    {
     "data": {
      "text/plain": [
       "127988"
      ]
     },
     "execution_count": 273,
     "metadata": {},
     "output_type": "execute_result"
    }
   ],
   "source": [
    "\n",
    "df['excess_mortality_cumulative_per_million'].isnull().sum()"
   ]
  },
  {
   "cell_type": "code",
   "execution_count": null,
   "metadata": {},
   "outputs": [],
   "source": []
  }
 ],
 "metadata": {
  "kernelspec": {
   "display_name": "Python 3",
   "language": "python",
   "name": "python3"
  },
  "language_info": {
   "codemirror_mode": {
    "name": "ipython",
    "version": 3
   },
   "file_extension": ".py",
   "mimetype": "text/x-python",
   "name": "python",
   "nbconvert_exporter": "python",
   "pygments_lexer": "ipython3",
   "version": "3.9.13"
  }
 },
 "nbformat": 4,
 "nbformat_minor": 2
}
