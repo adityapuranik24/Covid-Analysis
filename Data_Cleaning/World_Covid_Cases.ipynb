{
 "cells": [
  {
   "cell_type": "code",
   "execution_count": 1,
   "metadata": {},
   "outputs": [],
   "source": [
    "import pandas as pd"
   ]
  },
  {
   "cell_type": "code",
   "execution_count": 2,
   "metadata": {},
   "outputs": [
    {
     "data": {
      "text/html": [
       "<div>\n",
       "<style scoped>\n",
       "    .dataframe tbody tr th:only-of-type {\n",
       "        vertical-align: middle;\n",
       "    }\n",
       "\n",
       "    .dataframe tbody tr th {\n",
       "        vertical-align: top;\n",
       "    }\n",
       "\n",
       "    .dataframe thead th {\n",
       "        text-align: right;\n",
       "    }\n",
       "</style>\n",
       "<table border=\"1\" class=\"dataframe\">\n",
       "  <thead>\n",
       "    <tr style=\"text-align: right;\">\n",
       "      <th></th>\n",
       "      <th>iso_code</th>\n",
       "      <th>continent</th>\n",
       "      <th>location</th>\n",
       "      <th>date</th>\n",
       "      <th>total_cases</th>\n",
       "      <th>new_cases</th>\n",
       "      <th>new_cases_smoothed</th>\n",
       "      <th>total_deaths</th>\n",
       "      <th>new_deaths</th>\n",
       "      <th>new_deaths_smoothed</th>\n",
       "      <th>...</th>\n",
       "      <th>female_smokers</th>\n",
       "      <th>male_smokers</th>\n",
       "      <th>handwashing_facilities</th>\n",
       "      <th>hospital_beds_per_thousand</th>\n",
       "      <th>life_expectancy</th>\n",
       "      <th>human_development_index</th>\n",
       "      <th>excess_mortality_cumulative_absolute</th>\n",
       "      <th>excess_mortality_cumulative</th>\n",
       "      <th>excess_mortality</th>\n",
       "      <th>excess_mortality_cumulative_per_million</th>\n",
       "    </tr>\n",
       "  </thead>\n",
       "  <tbody>\n",
       "    <tr>\n",
       "      <th>0</th>\n",
       "      <td>AFG</td>\n",
       "      <td>Asia</td>\n",
       "      <td>Afghanistan</td>\n",
       "      <td>2020-02-24</td>\n",
       "      <td>5.0</td>\n",
       "      <td>5.0</td>\n",
       "      <td>NaN</td>\n",
       "      <td>NaN</td>\n",
       "      <td>NaN</td>\n",
       "      <td>NaN</td>\n",
       "      <td>...</td>\n",
       "      <td>NaN</td>\n",
       "      <td>NaN</td>\n",
       "      <td>37.746</td>\n",
       "      <td>0.5</td>\n",
       "      <td>64.83</td>\n",
       "      <td>0.511</td>\n",
       "      <td>NaN</td>\n",
       "      <td>NaN</td>\n",
       "      <td>NaN</td>\n",
       "      <td>NaN</td>\n",
       "    </tr>\n",
       "    <tr>\n",
       "      <th>1</th>\n",
       "      <td>AFG</td>\n",
       "      <td>Asia</td>\n",
       "      <td>Afghanistan</td>\n",
       "      <td>2020-02-25</td>\n",
       "      <td>5.0</td>\n",
       "      <td>0.0</td>\n",
       "      <td>NaN</td>\n",
       "      <td>NaN</td>\n",
       "      <td>NaN</td>\n",
       "      <td>NaN</td>\n",
       "      <td>...</td>\n",
       "      <td>NaN</td>\n",
       "      <td>NaN</td>\n",
       "      <td>37.746</td>\n",
       "      <td>0.5</td>\n",
       "      <td>64.83</td>\n",
       "      <td>0.511</td>\n",
       "      <td>NaN</td>\n",
       "      <td>NaN</td>\n",
       "      <td>NaN</td>\n",
       "      <td>NaN</td>\n",
       "    </tr>\n",
       "    <tr>\n",
       "      <th>2</th>\n",
       "      <td>AFG</td>\n",
       "      <td>Asia</td>\n",
       "      <td>Afghanistan</td>\n",
       "      <td>2020-02-26</td>\n",
       "      <td>5.0</td>\n",
       "      <td>0.0</td>\n",
       "      <td>NaN</td>\n",
       "      <td>NaN</td>\n",
       "      <td>NaN</td>\n",
       "      <td>NaN</td>\n",
       "      <td>...</td>\n",
       "      <td>NaN</td>\n",
       "      <td>NaN</td>\n",
       "      <td>37.746</td>\n",
       "      <td>0.5</td>\n",
       "      <td>64.83</td>\n",
       "      <td>0.511</td>\n",
       "      <td>NaN</td>\n",
       "      <td>NaN</td>\n",
       "      <td>NaN</td>\n",
       "      <td>NaN</td>\n",
       "    </tr>\n",
       "    <tr>\n",
       "      <th>3</th>\n",
       "      <td>AFG</td>\n",
       "      <td>Asia</td>\n",
       "      <td>Afghanistan</td>\n",
       "      <td>2020-02-27</td>\n",
       "      <td>5.0</td>\n",
       "      <td>0.0</td>\n",
       "      <td>NaN</td>\n",
       "      <td>NaN</td>\n",
       "      <td>NaN</td>\n",
       "      <td>NaN</td>\n",
       "      <td>...</td>\n",
       "      <td>NaN</td>\n",
       "      <td>NaN</td>\n",
       "      <td>37.746</td>\n",
       "      <td>0.5</td>\n",
       "      <td>64.83</td>\n",
       "      <td>0.511</td>\n",
       "      <td>NaN</td>\n",
       "      <td>NaN</td>\n",
       "      <td>NaN</td>\n",
       "      <td>NaN</td>\n",
       "    </tr>\n",
       "    <tr>\n",
       "      <th>4</th>\n",
       "      <td>AFG</td>\n",
       "      <td>Asia</td>\n",
       "      <td>Afghanistan</td>\n",
       "      <td>2020-02-28</td>\n",
       "      <td>5.0</td>\n",
       "      <td>0.0</td>\n",
       "      <td>NaN</td>\n",
       "      <td>NaN</td>\n",
       "      <td>NaN</td>\n",
       "      <td>NaN</td>\n",
       "      <td>...</td>\n",
       "      <td>NaN</td>\n",
       "      <td>NaN</td>\n",
       "      <td>37.746</td>\n",
       "      <td>0.5</td>\n",
       "      <td>64.83</td>\n",
       "      <td>0.511</td>\n",
       "      <td>NaN</td>\n",
       "      <td>NaN</td>\n",
       "      <td>NaN</td>\n",
       "      <td>NaN</td>\n",
       "    </tr>\n",
       "    <tr>\n",
       "      <th>...</th>\n",
       "      <td>...</td>\n",
       "      <td>...</td>\n",
       "      <td>...</td>\n",
       "      <td>...</td>\n",
       "      <td>...</td>\n",
       "      <td>...</td>\n",
       "      <td>...</td>\n",
       "      <td>...</td>\n",
       "      <td>...</td>\n",
       "      <td>...</td>\n",
       "      <td>...</td>\n",
       "      <td>...</td>\n",
       "      <td>...</td>\n",
       "      <td>...</td>\n",
       "      <td>...</td>\n",
       "      <td>...</td>\n",
       "      <td>...</td>\n",
       "      <td>...</td>\n",
       "      <td>...</td>\n",
       "      <td>...</td>\n",
       "      <td>...</td>\n",
       "    </tr>\n",
       "    <tr>\n",
       "      <th>95</th>\n",
       "      <td>AFG</td>\n",
       "      <td>Asia</td>\n",
       "      <td>Afghanistan</td>\n",
       "      <td>2020-05-29</td>\n",
       "      <td>13745.0</td>\n",
       "      <td>643.0</td>\n",
       "      <td>647.000</td>\n",
       "      <td>250.0</td>\n",
       "      <td>11.0</td>\n",
       "      <td>6.429</td>\n",
       "      <td>...</td>\n",
       "      <td>NaN</td>\n",
       "      <td>NaN</td>\n",
       "      <td>37.746</td>\n",
       "      <td>0.5</td>\n",
       "      <td>64.83</td>\n",
       "      <td>0.511</td>\n",
       "      <td>NaN</td>\n",
       "      <td>NaN</td>\n",
       "      <td>NaN</td>\n",
       "      <td>NaN</td>\n",
       "    </tr>\n",
       "    <tr>\n",
       "      <th>96</th>\n",
       "      <td>AFG</td>\n",
       "      <td>Asia</td>\n",
       "      <td>Afghanistan</td>\n",
       "      <td>2020-05-30</td>\n",
       "      <td>14529.0</td>\n",
       "      <td>784.0</td>\n",
       "      <td>653.857</td>\n",
       "      <td>252.0</td>\n",
       "      <td>2.0</td>\n",
       "      <td>5.286</td>\n",
       "      <td>...</td>\n",
       "      <td>NaN</td>\n",
       "      <td>NaN</td>\n",
       "      <td>37.746</td>\n",
       "      <td>0.5</td>\n",
       "      <td>64.83</td>\n",
       "      <td>0.511</td>\n",
       "      <td>NaN</td>\n",
       "      <td>NaN</td>\n",
       "      <td>NaN</td>\n",
       "      <td>NaN</td>\n",
       "    </tr>\n",
       "    <tr>\n",
       "      <th>97</th>\n",
       "      <td>AFG</td>\n",
       "      <td>Asia</td>\n",
       "      <td>Afghanistan</td>\n",
       "      <td>2020-05-31</td>\n",
       "      <td>15180.0</td>\n",
       "      <td>651.0</td>\n",
       "      <td>644.571</td>\n",
       "      <td>254.0</td>\n",
       "      <td>2.0</td>\n",
       "      <td>4.571</td>\n",
       "      <td>...</td>\n",
       "      <td>NaN</td>\n",
       "      <td>NaN</td>\n",
       "      <td>37.746</td>\n",
       "      <td>0.5</td>\n",
       "      <td>64.83</td>\n",
       "      <td>0.511</td>\n",
       "      <td>NaN</td>\n",
       "      <td>NaN</td>\n",
       "      <td>NaN</td>\n",
       "      <td>NaN</td>\n",
       "    </tr>\n",
       "    <tr>\n",
       "      <th>98</th>\n",
       "      <td>AFG</td>\n",
       "      <td>Asia</td>\n",
       "      <td>Afghanistan</td>\n",
       "      <td>2020-06-01</td>\n",
       "      <td>15836.0</td>\n",
       "      <td>656.0</td>\n",
       "      <td>665.143</td>\n",
       "      <td>269.0</td>\n",
       "      <td>15.0</td>\n",
       "      <td>6.571</td>\n",
       "      <td>...</td>\n",
       "      <td>NaN</td>\n",
       "      <td>NaN</td>\n",
       "      <td>37.746</td>\n",
       "      <td>0.5</td>\n",
       "      <td>64.83</td>\n",
       "      <td>0.511</td>\n",
       "      <td>NaN</td>\n",
       "      <td>NaN</td>\n",
       "      <td>NaN</td>\n",
       "      <td>NaN</td>\n",
       "    </tr>\n",
       "    <tr>\n",
       "      <th>99</th>\n",
       "      <td>AFG</td>\n",
       "      <td>Asia</td>\n",
       "      <td>Afghanistan</td>\n",
       "      <td>2020-06-02</td>\n",
       "      <td>16578.0</td>\n",
       "      <td>742.0</td>\n",
       "      <td>665.857</td>\n",
       "      <td>274.0</td>\n",
       "      <td>5.0</td>\n",
       "      <td>7.143</td>\n",
       "      <td>...</td>\n",
       "      <td>NaN</td>\n",
       "      <td>NaN</td>\n",
       "      <td>37.746</td>\n",
       "      <td>0.5</td>\n",
       "      <td>64.83</td>\n",
       "      <td>0.511</td>\n",
       "      <td>NaN</td>\n",
       "      <td>NaN</td>\n",
       "      <td>NaN</td>\n",
       "      <td>NaN</td>\n",
       "    </tr>\n",
       "  </tbody>\n",
       "</table>\n",
       "<p>100 rows × 65 columns</p>\n",
       "</div>"
      ],
      "text/plain": [
       "   iso_code continent     location        date  total_cases  new_cases  \\\n",
       "0       AFG      Asia  Afghanistan  2020-02-24          5.0        5.0   \n",
       "1       AFG      Asia  Afghanistan  2020-02-25          5.0        0.0   \n",
       "2       AFG      Asia  Afghanistan  2020-02-26          5.0        0.0   \n",
       "3       AFG      Asia  Afghanistan  2020-02-27          5.0        0.0   \n",
       "4       AFG      Asia  Afghanistan  2020-02-28          5.0        0.0   \n",
       "..      ...       ...          ...         ...          ...        ...   \n",
       "95      AFG      Asia  Afghanistan  2020-05-29      13745.0      643.0   \n",
       "96      AFG      Asia  Afghanistan  2020-05-30      14529.0      784.0   \n",
       "97      AFG      Asia  Afghanistan  2020-05-31      15180.0      651.0   \n",
       "98      AFG      Asia  Afghanistan  2020-06-01      15836.0      656.0   \n",
       "99      AFG      Asia  Afghanistan  2020-06-02      16578.0      742.0   \n",
       "\n",
       "    new_cases_smoothed  total_deaths  new_deaths  new_deaths_smoothed  ...  \\\n",
       "0                  NaN           NaN         NaN                  NaN  ...   \n",
       "1                  NaN           NaN         NaN                  NaN  ...   \n",
       "2                  NaN           NaN         NaN                  NaN  ...   \n",
       "3                  NaN           NaN         NaN                  NaN  ...   \n",
       "4                  NaN           NaN         NaN                  NaN  ...   \n",
       "..                 ...           ...         ...                  ...  ...   \n",
       "95             647.000         250.0        11.0                6.429  ...   \n",
       "96             653.857         252.0         2.0                5.286  ...   \n",
       "97             644.571         254.0         2.0                4.571  ...   \n",
       "98             665.143         269.0        15.0                6.571  ...   \n",
       "99             665.857         274.0         5.0                7.143  ...   \n",
       "\n",
       "    female_smokers  male_smokers  handwashing_facilities  \\\n",
       "0              NaN           NaN                  37.746   \n",
       "1              NaN           NaN                  37.746   \n",
       "2              NaN           NaN                  37.746   \n",
       "3              NaN           NaN                  37.746   \n",
       "4              NaN           NaN                  37.746   \n",
       "..             ...           ...                     ...   \n",
       "95             NaN           NaN                  37.746   \n",
       "96             NaN           NaN                  37.746   \n",
       "97             NaN           NaN                  37.746   \n",
       "98             NaN           NaN                  37.746   \n",
       "99             NaN           NaN                  37.746   \n",
       "\n",
       "    hospital_beds_per_thousand  life_expectancy  human_development_index  \\\n",
       "0                          0.5            64.83                    0.511   \n",
       "1                          0.5            64.83                    0.511   \n",
       "2                          0.5            64.83                    0.511   \n",
       "3                          0.5            64.83                    0.511   \n",
       "4                          0.5            64.83                    0.511   \n",
       "..                         ...              ...                      ...   \n",
       "95                         0.5            64.83                    0.511   \n",
       "96                         0.5            64.83                    0.511   \n",
       "97                         0.5            64.83                    0.511   \n",
       "98                         0.5            64.83                    0.511   \n",
       "99                         0.5            64.83                    0.511   \n",
       "\n",
       "    excess_mortality_cumulative_absolute  excess_mortality_cumulative  \\\n",
       "0                                    NaN                          NaN   \n",
       "1                                    NaN                          NaN   \n",
       "2                                    NaN                          NaN   \n",
       "3                                    NaN                          NaN   \n",
       "4                                    NaN                          NaN   \n",
       "..                                   ...                          ...   \n",
       "95                                   NaN                          NaN   \n",
       "96                                   NaN                          NaN   \n",
       "97                                   NaN                          NaN   \n",
       "98                                   NaN                          NaN   \n",
       "99                                   NaN                          NaN   \n",
       "\n",
       "    excess_mortality  excess_mortality_cumulative_per_million  \n",
       "0                NaN                                      NaN  \n",
       "1                NaN                                      NaN  \n",
       "2                NaN                                      NaN  \n",
       "3                NaN                                      NaN  \n",
       "4                NaN                                      NaN  \n",
       "..               ...                                      ...  \n",
       "95               NaN                                      NaN  \n",
       "96               NaN                                      NaN  \n",
       "97               NaN                                      NaN  \n",
       "98               NaN                                      NaN  \n",
       "99               NaN                                      NaN  \n",
       "\n",
       "[100 rows x 65 columns]"
      ]
     },
     "execution_count": 2,
     "metadata": {},
     "output_type": "execute_result"
    }
   ],
   "source": [
    "df = pd.read_csv(\"../Data/Raw Data/covid-19-world-cases-deaths-testing.csv\")\n",
    "df.head(100)"
   ]
  },
  {
   "cell_type": "code",
   "execution_count": 337,
   "metadata": {},
   "outputs": [
    {
     "name": "stdout",
     "output_type": "stream",
     "text": [
      "iso_code                                        0\n",
      "continent                                    8474\n",
      "location                                        0\n",
      "date                                            0\n",
      "total_cases                                  7234\n",
      "new_cases                                    7236\n",
      "new_cases_smoothed                           8279\n",
      "total_deaths                                18351\n",
      "new_deaths                                  18155\n",
      "new_deaths_smoothed                          8279\n",
      "total_cases_per_million                      7878\n",
      "new_cases_per_million                        7880\n",
      "new_cases_smoothed_per_million               8918\n",
      "total_deaths_per_million                    18982\n",
      "new_deaths_per_million                      18786\n",
      "new_deaths_smoothed_per_million              8918\n",
      "reproduction_rate                           28218\n",
      "icu_patients                               116689\n",
      "icu_patients_per_million                   116689\n",
      "hosp_patients                              113945\n",
      "hosp_patients_per_million                  113945\n",
      "weekly_icu_admissions                      131304\n",
      "weekly_icu_admissions_per_million          131304\n",
      "weekly_hosp_admissions                     130517\n",
      "weekly_hosp_admissions_per_million         130517\n",
      "new_tests                                   77554\n",
      "total_tests                                 77299\n",
      "total_tests_per_thousand                    77299\n",
      "new_tests_per_thousand                      77554\n",
      "new_tests_smoothed                          65751\n",
      "new_tests_smoothed_per_thousand             65751\n",
      "positive_rate                               69775\n",
      "tests_per_case                              70435\n",
      "tests_units                                 63732\n",
      "total_vaccinations                          99253\n",
      "people_vaccinated                          100801\n",
      "people_fully_vaccinated                    103790\n",
      "total_boosters                             126789\n",
      "new_vaccinations                           104857\n",
      "new_vaccinations_smoothed                   73134\n",
      "total_vaccinations_per_hundred              99253\n",
      "people_vaccinated_per_hundred              100801\n",
      "people_fully_vaccinated_per_hundred        103790\n",
      "total_boosters_per_hundred                 126789\n",
      "new_vaccinations_smoothed_per_million       73134\n",
      "stringency_index                            24527\n",
      "population                                    940\n",
      "population_density                          12570\n",
      "median_age                                  18219\n",
      "aged_65_older                               19485\n",
      "aged_70_older                               18844\n",
      "gdp_per_capita                              17470\n",
      "extreme_poverty                             55623\n",
      "cardiovasc_death_rate                       17975\n",
      "diabetes_prevalence                         14223\n",
      "female_smokers                              43315\n",
      "male_smokers                                44607\n",
      "handwashing_facilities                      74931\n",
      "hospital_beds_per_thousand                  28436\n",
      "life_expectancy                              9331\n",
      "human_development_index                     17873\n",
      "excess_mortality_cumulative_absolute       127988\n",
      "excess_mortality_cumulative                127988\n",
      "excess_mortality                           127988\n",
      "excess_mortality_cumulative_per_million    127988\n",
      "dtype: int64\n"
     ]
    }
   ],
   "source": [
    "# a = df.isnull().sum()\n",
    "# pd.set_option('display.max_rows', None)\n",
    "# print(a)"
   ]
  },
  {
   "cell_type": "markdown",
   "metadata": {},
   "source": [
    "## Creating new DataFrame for Country codes"
   ]
  },
  {
   "cell_type": "code",
   "execution_count": 4,
   "metadata": {},
   "outputs": [
    {
     "data": {
      "text/html": [
       "<div>\n",
       "<style scoped>\n",
       "    .dataframe tbody tr th:only-of-type {\n",
       "        vertical-align: middle;\n",
       "    }\n",
       "\n",
       "    .dataframe tbody tr th {\n",
       "        vertical-align: top;\n",
       "    }\n",
       "\n",
       "    .dataframe thead th {\n",
       "        text-align: right;\n",
       "    }\n",
       "</style>\n",
       "<table border=\"1\" class=\"dataframe\">\n",
       "  <thead>\n",
       "    <tr style=\"text-align: right;\">\n",
       "      <th></th>\n",
       "      <th>iso_code</th>\n",
       "      <th>continent</th>\n",
       "      <th>location</th>\n",
       "    </tr>\n",
       "  </thead>\n",
       "  <tbody>\n",
       "    <tr>\n",
       "      <th>0</th>\n",
       "      <td>AFG</td>\n",
       "      <td>Asia</td>\n",
       "      <td>Afghanistan</td>\n",
       "    </tr>\n",
       "    <tr>\n",
       "      <th>1</th>\n",
       "      <td>OWID_AFR</td>\n",
       "      <td>Unknown</td>\n",
       "      <td>Africa</td>\n",
       "    </tr>\n",
       "    <tr>\n",
       "      <th>2</th>\n",
       "      <td>ALB</td>\n",
       "      <td>Europe</td>\n",
       "      <td>Albania</td>\n",
       "    </tr>\n",
       "    <tr>\n",
       "      <th>3</th>\n",
       "      <td>DZA</td>\n",
       "      <td>Africa</td>\n",
       "      <td>Algeria</td>\n",
       "    </tr>\n",
       "    <tr>\n",
       "      <th>4</th>\n",
       "      <td>AND</td>\n",
       "      <td>Europe</td>\n",
       "      <td>Andorra</td>\n",
       "    </tr>\n",
       "    <tr>\n",
       "      <th>...</th>\n",
       "      <td>...</td>\n",
       "      <td>...</td>\n",
       "      <td>...</td>\n",
       "    </tr>\n",
       "    <tr>\n",
       "      <th>232</th>\n",
       "      <td>WLF</td>\n",
       "      <td>Oceania</td>\n",
       "      <td>Wallis and Futuna</td>\n",
       "    </tr>\n",
       "    <tr>\n",
       "      <th>233</th>\n",
       "      <td>OWID_WRL</td>\n",
       "      <td>Unknown</td>\n",
       "      <td>World</td>\n",
       "    </tr>\n",
       "    <tr>\n",
       "      <th>234</th>\n",
       "      <td>YEM</td>\n",
       "      <td>Asia</td>\n",
       "      <td>Yemen</td>\n",
       "    </tr>\n",
       "    <tr>\n",
       "      <th>235</th>\n",
       "      <td>ZMB</td>\n",
       "      <td>Africa</td>\n",
       "      <td>Zambia</td>\n",
       "    </tr>\n",
       "    <tr>\n",
       "      <th>236</th>\n",
       "      <td>ZWE</td>\n",
       "      <td>Africa</td>\n",
       "      <td>Zimbabwe</td>\n",
       "    </tr>\n",
       "  </tbody>\n",
       "</table>\n",
       "<p>237 rows × 3 columns</p>\n",
       "</div>"
      ],
      "text/plain": [
       "     iso_code continent           location\n",
       "0         AFG      Asia        Afghanistan\n",
       "1    OWID_AFR   Unknown             Africa\n",
       "2         ALB    Europe            Albania\n",
       "3         DZA    Africa            Algeria\n",
       "4         AND    Europe            Andorra\n",
       "..        ...       ...                ...\n",
       "232       WLF   Oceania  Wallis and Futuna\n",
       "233  OWID_WRL   Unknown              World\n",
       "234       YEM      Asia              Yemen\n",
       "235       ZMB    Africa             Zambia\n",
       "236       ZWE    Africa           Zimbabwe\n",
       "\n",
       "[237 rows x 3 columns]"
      ]
     },
     "execution_count": 4,
     "metadata": {},
     "output_type": "execute_result"
    }
   ],
   "source": [
    "country_codes = df[['iso_code', 'continent','location']]\n",
    "country_codes = country_codes.drop_duplicates()\n",
    "country_codes['continent'] = country_codes['continent'].fillna('Unknown')\n",
    "country_codes = country_codes.reset_index(drop= True)\n",
    "country_codes"
   ]
  },
  {
   "cell_type": "markdown",
   "metadata": {},
   "source": [
    "## Updated Country names with codes"
   ]
  },
  {
   "cell_type": "code",
   "execution_count": 5,
   "metadata": {},
   "outputs": [],
   "source": [
    "country_codes.to_csv(\"../Data/Clean Data/Updated_Country_Codes.csv\", index= False)"
   ]
  },
  {
   "cell_type": "markdown",
   "metadata": {},
   "source": [
    "## Cleaning each columns of the DataFrame"
   ]
  },
  {
   "cell_type": "code",
   "execution_count": 6,
   "metadata": {},
   "outputs": [
    {
     "data": {
      "text/plain": [
       "0              5\n",
       "1              5\n",
       "2              5\n",
       "3              5\n",
       "4              5\n",
       "           ...  \n",
       "132639    133187\n",
       "132640    133205\n",
       "132641    133242\n",
       "132642    133302\n",
       "132643    133329\n",
       "Name: total_cases, Length: 132644, dtype: int32"
      ]
     },
     "execution_count": 6,
     "metadata": {},
     "output_type": "execute_result"
    }
   ],
   "source": [
    "df['total_cases'] = df['total_cases'].fillna(0)\n",
    "df['total_cases'] = df['total_cases'].astype(int)\n",
    "df['total_cases']\n"
   ]
  },
  {
   "cell_type": "code",
   "execution_count": 7,
   "metadata": {},
   "outputs": [
    {
     "data": {
      "text/plain": [
       "0          5\n",
       "1          0\n",
       "2          0\n",
       "3          0\n",
       "4          0\n",
       "          ..\n",
       "132639    19\n",
       "132640    18\n",
       "132641    37\n",
       "132642    60\n",
       "132643    27\n",
       "Name: new_cases, Length: 132644, dtype: int32"
      ]
     },
     "execution_count": 7,
     "metadata": {},
     "output_type": "execute_result"
    }
   ],
   "source": [
    "df['new_cases'] = df['new_cases'].fillna(0)\n",
    "df['new_cases'] = df['new_cases'].astype(int)\n",
    "df['new_cases']\n"
   ]
  },
  {
   "cell_type": "code",
   "execution_count": 8,
   "metadata": {},
   "outputs": [
    {
     "data": {
      "text/plain": [
       "0          0.000\n",
       "1          0.000\n",
       "2          0.000\n",
       "3          0.000\n",
       "4          0.000\n",
       "           ...  \n",
       "132639    30.000\n",
       "132640    28.286\n",
       "132641    27.857\n",
       "132642    30.143\n",
       "132643    31.000\n",
       "Name: new_cases_smoothed, Length: 132644, dtype: float64"
      ]
     },
     "execution_count": 8,
     "metadata": {},
     "output_type": "execute_result"
    }
   ],
   "source": [
    "df['new_cases_smoothed'] = df['new_cases_smoothed'].fillna(0)\n",
    "df['new_cases_smoothed'] = df['new_cases_smoothed'].astype(float)\n",
    "df['new_cases_smoothed']\n"
   ]
  },
  {
   "cell_type": "code",
   "execution_count": 9,
   "metadata": {},
   "outputs": [
    {
     "data": {
      "text/plain": [
       "0            0\n",
       "1            0\n",
       "2            0\n",
       "3            0\n",
       "4            0\n",
       "          ... \n",
       "132639    4685\n",
       "132640    4690\n",
       "132641    4691\n",
       "132642    4694\n",
       "132643    4694\n",
       "Name: total_deaths, Length: 132644, dtype: int32"
      ]
     },
     "execution_count": 9,
     "metadata": {},
     "output_type": "execute_result"
    }
   ],
   "source": [
    "df['total_deaths'] = df['total_deaths'].fillna(0)\n",
    "df['total_deaths'] = df['total_deaths'].astype(int)\n",
    "df['total_deaths']\n"
   ]
  },
  {
   "cell_type": "code",
   "execution_count": 10,
   "metadata": {},
   "outputs": [
    {
     "data": {
      "text/plain": [
       "0         0\n",
       "1         0\n",
       "2         0\n",
       "3         0\n",
       "4         0\n",
       "         ..\n",
       "132639    0\n",
       "132640    5\n",
       "132641    1\n",
       "132642    3\n",
       "132643    0\n",
       "Name: new_deaths, Length: 132644, dtype: int32"
      ]
     },
     "execution_count": 10,
     "metadata": {},
     "output_type": "execute_result"
    }
   ],
   "source": [
    "df['new_deaths'] = df['new_deaths'].fillna(0)\n",
    "df['new_deaths'] = df['new_deaths'].astype(int)\n",
    "df['new_deaths']\n"
   ]
  },
  {
   "cell_type": "code",
   "execution_count": 11,
   "metadata": {},
   "outputs": [
    {
     "data": {
      "text/plain": [
       "0         0.000\n",
       "1         0.000\n",
       "2         0.000\n",
       "3         0.000\n",
       "4         0.000\n",
       "          ...  \n",
       "132639    1.000\n",
       "132640    1.571\n",
       "132641    1.143\n",
       "132642    1.429\n",
       "132643    1.286\n",
       "Name: new_deaths_smoothed, Length: 132644, dtype: float64"
      ]
     },
     "execution_count": 11,
     "metadata": {},
     "output_type": "execute_result"
    }
   ],
   "source": [
    "df['new_deaths_smoothed'] = df['new_deaths_smoothed'].fillna(0)\n",
    "df['new_deaths_smoothed'] = df['new_deaths_smoothed'].astype(float)\n",
    "df['new_deaths_smoothed']\n"
   ]
  },
  {
   "cell_type": "code",
   "execution_count": 12,
   "metadata": {},
   "outputs": [
    {
     "data": {
      "text/plain": [
       "0            0.126\n",
       "1            0.126\n",
       "2            0.126\n",
       "3            0.126\n",
       "4            0.126\n",
       "            ...   \n",
       "132639    8824.907\n",
       "132640    8826.099\n",
       "132641    8828.551\n",
       "132642    8832.526\n",
       "132643    8834.315\n",
       "Name: total_cases_per_million, Length: 132644, dtype: float64"
      ]
     },
     "execution_count": 12,
     "metadata": {},
     "output_type": "execute_result"
    }
   ],
   "source": [
    "df['total_cases_per_million'] = df['total_cases_per_million'].fillna(0)\n",
    "df['total_cases_per_million'] = df['total_cases_per_million'].astype(float)\n",
    "df['total_cases_per_million']\n"
   ]
  },
  {
   "cell_type": "code",
   "execution_count": 13,
   "metadata": {},
   "outputs": [
    {
     "data": {
      "text/plain": [
       "0         0.126\n",
       "1         0.000\n",
       "2         0.000\n",
       "3         0.000\n",
       "4         0.000\n",
       "          ...  \n",
       "132639    1.259\n",
       "132640    1.193\n",
       "132641    2.452\n",
       "132642    3.976\n",
       "132643    1.789\n",
       "Name: new_cases_per_million, Length: 132644, dtype: float64"
      ]
     },
     "execution_count": 13,
     "metadata": {},
     "output_type": "execute_result"
    }
   ],
   "source": [
    "df['new_cases_per_million'] = df['new_cases_per_million'].fillna(0)\n",
    "df['new_cases_per_million'] = df['new_cases_per_million'].astype(float)\n",
    "df['new_cases_per_million']\n"
   ]
  },
  {
   "cell_type": "code",
   "execution_count": 14,
   "metadata": {},
   "outputs": [
    {
     "data": {
      "text/plain": [
       "0         0.000\n",
       "1         0.000\n",
       "2         0.000\n",
       "3         0.000\n",
       "4         0.000\n",
       "          ...  \n",
       "132639    1.988\n",
       "132640    1.874\n",
       "132641    1.846\n",
       "132642    1.997\n",
       "132643    2.054\n",
       "Name: new_cases_smoothed_per_million, Length: 132644, dtype: float64"
      ]
     },
     "execution_count": 14,
     "metadata": {},
     "output_type": "execute_result"
    }
   ],
   "source": [
    "df['new_cases_smoothed_per_million'] = df['new_cases_smoothed_per_million'].fillna(0)\n",
    "df['new_cases_smoothed_per_million'] = df['new_cases_smoothed_per_million'].astype(float)\n",
    "df['new_cases_smoothed_per_million']\n"
   ]
  },
  {
   "cell_type": "code",
   "execution_count": 15,
   "metadata": {},
   "outputs": [
    {
     "data": {
      "text/plain": [
       "0           0.000\n",
       "1           0.000\n",
       "2           0.000\n",
       "3           0.000\n",
       "4           0.000\n",
       "           ...   \n",
       "132639    310.426\n",
       "132640    310.757\n",
       "132641    310.823\n",
       "132642    311.022\n",
       "132643    311.022\n",
       "Name: total_deaths_per_million, Length: 132644, dtype: float64"
      ]
     },
     "execution_count": 15,
     "metadata": {},
     "output_type": "execute_result"
    }
   ],
   "source": [
    "df['total_deaths_per_million'] = df['total_deaths_per_million'].fillna(0)\n",
    "df['total_deaths_per_million'] = df['total_deaths_per_million'].astype(float)\n",
    "df['total_deaths_per_million']\n"
   ]
  },
  {
   "cell_type": "code",
   "execution_count": 16,
   "metadata": {},
   "outputs": [
    {
     "data": {
      "text/plain": [
       "0         0.000\n",
       "1         0.000\n",
       "2         0.000\n",
       "3         0.000\n",
       "4         0.000\n",
       "          ...  \n",
       "132639    0.000\n",
       "132640    0.331\n",
       "132641    0.066\n",
       "132642    0.199\n",
       "132643    0.000\n",
       "Name: new_deaths_per_million, Length: 132644, dtype: float64"
      ]
     },
     "execution_count": 16,
     "metadata": {},
     "output_type": "execute_result"
    }
   ],
   "source": [
    "df['new_deaths_per_million'] = df['new_deaths_per_million'].fillna(0)\n",
    "df['new_deaths_per_million'] = df['new_deaths_per_million'].astype(float)\n",
    "df['new_deaths_per_million']\n"
   ]
  },
  {
   "cell_type": "code",
   "execution_count": 17,
   "metadata": {},
   "outputs": [
    {
     "data": {
      "text/plain": [
       "0         0.000\n",
       "1         0.000\n",
       "2         0.000\n",
       "3         0.000\n",
       "4         0.000\n",
       "          ...  \n",
       "132639    0.066\n",
       "132640    0.104\n",
       "132641    0.076\n",
       "132642    0.095\n",
       "132643    0.085\n",
       "Name: new_deaths_smoothed_per_million, Length: 132644, dtype: float64"
      ]
     },
     "execution_count": 17,
     "metadata": {},
     "output_type": "execute_result"
    }
   ],
   "source": [
    "df['new_deaths_smoothed_per_million'] = df['new_deaths_smoothed_per_million'].fillna(0)\n",
    "df['new_deaths_smoothed_per_million'] = df['new_deaths_smoothed_per_million'].astype(float)\n",
    "df['new_deaths_smoothed_per_million']\n",
    "\n"
   ]
  },
  {
   "cell_type": "code",
   "execution_count": 18,
   "metadata": {},
   "outputs": [
    {
     "data": {
      "text/plain": [
       "0         0.00\n",
       "1         0.00\n",
       "2         0.00\n",
       "3         0.00\n",
       "4         0.00\n",
       "          ... \n",
       "132639    0.75\n",
       "132640    0.00\n",
       "132641    0.00\n",
       "132642    0.00\n",
       "132643    0.00\n",
       "Name: reproduction_rate, Length: 132644, dtype: float64"
      ]
     },
     "execution_count": 18,
     "metadata": {},
     "output_type": "execute_result"
    }
   ],
   "source": [
    "df['reproduction_rate'] = df['reproduction_rate'].fillna(0)\n",
    "df['reproduction_rate'] = df['reproduction_rate'].astype(float)\n",
    "df['reproduction_rate']\n",
    "\n"
   ]
  },
  {
   "cell_type": "code",
   "execution_count": 188,
   "metadata": {},
   "outputs": [
    {
     "data": {
      "text/plain": [
       "116689"
      ]
     },
     "execution_count": 188,
     "metadata": {},
     "output_type": "execute_result"
    }
   ],
   "source": [
    "# df['icu_patients'] = df['icu_patients'].fillna(0)\n",
    "# df['icu_patients'] = df['icu_patients'].astype(int)\n",
    "# df['icu_patients']\n",
    "df['icu_patients'].isnull().sum()\n"
   ]
  },
  {
   "cell_type": "code",
   "execution_count": 189,
   "metadata": {},
   "outputs": [
    {
     "data": {
      "text/plain": [
       "116689"
      ]
     },
     "execution_count": 189,
     "metadata": {},
     "output_type": "execute_result"
    }
   ],
   "source": [
    "# df['icu_patients_per_million'] = df['icu_patients_per_million'].fillna(0)\n",
    "# df['icu_patients_per_million'] = df['icu_patients_per_million'].astype(float)\n",
    "# df['icu_patients_per_million']\n",
    "df['icu_patients_per_million'].isnull().sum()\n"
   ]
  },
  {
   "cell_type": "code",
   "execution_count": 190,
   "metadata": {},
   "outputs": [
    {
     "data": {
      "text/plain": [
       "113945"
      ]
     },
     "execution_count": 190,
     "metadata": {},
     "output_type": "execute_result"
    }
   ],
   "source": [
    "# df['hosp_patients'] = df['hosp_patients'].fillna(0)\n",
    "# df['hosp_patients'] = df['hosp_patients'].astype(int)\n",
    "# df['hosp_patients']\n",
    "df['hosp_patients'].isnull().sum()"
   ]
  },
  {
   "cell_type": "code",
   "execution_count": 191,
   "metadata": {},
   "outputs": [
    {
     "data": {
      "text/plain": [
       "113945"
      ]
     },
     "execution_count": 191,
     "metadata": {},
     "output_type": "execute_result"
    }
   ],
   "source": [
    "# df['hosp_patients_per_million'] = df['hosp_patients_per_million'].fillna(0)\n",
    "# df['hosp_patients_per_million'] = df['hosp_patients_per_million'].astype(float)\n",
    "# df['hosp_patients_per_million']\n",
    "df['hosp_patients_per_million'].isnull().sum()"
   ]
  },
  {
   "cell_type": "code",
   "execution_count": 192,
   "metadata": {},
   "outputs": [
    {
     "data": {
      "text/plain": [
       "131304"
      ]
     },
     "execution_count": 192,
     "metadata": {},
     "output_type": "execute_result"
    }
   ],
   "source": [
    "# df['weekly_icu_admissions'] = df['weekly_icu_admissions'].fillna(0)\n",
    "# df['weekly_icu_admissions'] = df['weekly_icu_admissions'].astype(float)\n",
    "# df['weekly_icu_admissions']\n",
    "df['weekly_icu_admissions'].isnull().sum()\n"
   ]
  },
  {
   "cell_type": "code",
   "execution_count": 193,
   "metadata": {},
   "outputs": [
    {
     "data": {
      "text/plain": [
       "131304"
      ]
     },
     "execution_count": 193,
     "metadata": {},
     "output_type": "execute_result"
    }
   ],
   "source": [
    "# df['weekly_icu_admissions_per_million'] = df['weekly_icu_admissions_per_million'].fillna(0)\n",
    "# df['weekly_icu_admissions_per_million'] = df['weekly_icu_admissions_per_million'].astype(float)\n",
    "# df['weekly_icu_admissions_per_million']\n",
    "df['weekly_icu_admissions_per_million'].isnull().sum()"
   ]
  },
  {
   "cell_type": "code",
   "execution_count": 151,
   "metadata": {},
   "outputs": [
    {
     "data": {
      "text/plain": [
       "130517"
      ]
     },
     "execution_count": 151,
     "metadata": {},
     "output_type": "execute_result"
    }
   ],
   "source": [
    "df['weekly_hosp_admissions'].isnull().sum()"
   ]
  },
  {
   "cell_type": "code",
   "execution_count": 197,
   "metadata": {},
   "outputs": [
    {
     "data": {
      "text/plain": [
       "130517"
      ]
     },
     "execution_count": 197,
     "metadata": {},
     "output_type": "execute_result"
    }
   ],
   "source": [
    "df['weekly_hosp_admissions_per_million'].isnull().sum()"
   ]
  },
  {
   "cell_type": "code",
   "execution_count": 230,
   "metadata": {},
   "outputs": [
    {
     "data": {
      "text/plain": [
       "99253"
      ]
     },
     "execution_count": 230,
     "metadata": {},
     "output_type": "execute_result"
    }
   ],
   "source": [
    "df['total_vaccinations_per_hundred'].isnull().sum()"
   ]
  },
  {
   "cell_type": "code",
   "execution_count": 231,
   "metadata": {},
   "outputs": [
    {
     "data": {
      "text/plain": [
       "100801"
      ]
     },
     "execution_count": 231,
     "metadata": {},
     "output_type": "execute_result"
    }
   ],
   "source": [
    "\n",
    "df['people_vaccinated_per_hundred'].isnull().sum()"
   ]
  },
  {
   "cell_type": "code",
   "execution_count": 232,
   "metadata": {},
   "outputs": [
    {
     "data": {
      "text/plain": [
       "103790"
      ]
     },
     "execution_count": 232,
     "metadata": {},
     "output_type": "execute_result"
    }
   ],
   "source": [
    "df['people_fully_vaccinated_per_hundred'].isnull().sum()"
   ]
  },
  {
   "cell_type": "code",
   "execution_count": 233,
   "metadata": {},
   "outputs": [
    {
     "data": {
      "text/plain": [
       "126789"
      ]
     },
     "execution_count": 233,
     "metadata": {},
     "output_type": "execute_result"
    }
   ],
   "source": [
    "df['total_boosters_per_hundred'].isnull().sum()"
   ]
  },
  {
   "cell_type": "code",
   "execution_count": 239,
   "metadata": {},
   "outputs": [
    {
     "data": {
      "text/plain": [
       "940"
      ]
     },
     "execution_count": 239,
     "metadata": {},
     "output_type": "execute_result"
    }
   ],
   "source": [
    "df['population'].isnull().sum()"
   ]
  },
  {
   "cell_type": "code",
   "execution_count": null,
   "metadata": {},
   "outputs": [],
   "source": []
  },
  {
   "cell_type": "code",
   "execution_count": 19,
   "metadata": {},
   "outputs": [
    {
     "data": {
      "text/plain": [
       "0            0\n",
       "1            0\n",
       "2            0\n",
       "3            0\n",
       "4            0\n",
       "          ... \n",
       "132639    1159\n",
       "132640       0\n",
       "132641       0\n",
       "132642       0\n",
       "132643       0\n",
       "Name: new_tests, Length: 132644, dtype: int32"
      ]
     },
     "execution_count": 19,
     "metadata": {},
     "output_type": "execute_result"
    }
   ],
   "source": [
    "df['new_tests'] = df['new_tests'].fillna(0)\n",
    "df['new_tests'] = df['new_tests'].astype(int)\n",
    "df['new_tests']"
   ]
  },
  {
   "cell_type": "code",
   "execution_count": 20,
   "metadata": {},
   "outputs": [
    {
     "data": {
      "text/plain": [
       "0               0\n",
       "1               0\n",
       "2               0\n",
       "3               0\n",
       "4               0\n",
       "           ...   \n",
       "132639    1393065\n",
       "132640          0\n",
       "132641          0\n",
       "132642          0\n",
       "132643          0\n",
       "Name: total_tests, Length: 132644, dtype: int32"
      ]
     },
     "execution_count": 20,
     "metadata": {},
     "output_type": "execute_result"
    }
   ],
   "source": [
    "df['total_tests'] = df['total_tests'].fillna(0)\n",
    "df['total_tests'] = df['total_tests'].astype(int)\n",
    "df['total_tests']"
   ]
  },
  {
   "cell_type": "code",
   "execution_count": 21,
   "metadata": {},
   "outputs": [
    {
     "data": {
      "text/plain": [
       "0          0.000\n",
       "1          0.000\n",
       "2          0.000\n",
       "3          0.000\n",
       "4          0.000\n",
       "           ...  \n",
       "132639    92.304\n",
       "132640     0.000\n",
       "132641     0.000\n",
       "132642     0.000\n",
       "132643     0.000\n",
       "Name: total_tests_per_thousand, Length: 132644, dtype: float64"
      ]
     },
     "execution_count": 21,
     "metadata": {},
     "output_type": "execute_result"
    }
   ],
   "source": [
    "df['total_tests_per_thousand'] = df['total_tests_per_thousand'].fillna(0)\n",
    "df['total_tests_per_thousand'] = df['total_tests_per_thousand'].astype(float)\n",
    "df['total_tests_per_thousand']"
   ]
  },
  {
   "cell_type": "code",
   "execution_count": 22,
   "metadata": {},
   "outputs": [
    {
     "data": {
      "text/plain": [
       "0            0\n",
       "1            0\n",
       "2            0\n",
       "3            0\n",
       "4            0\n",
       "          ... \n",
       "132639    2879\n",
       "132640       0\n",
       "132641       0\n",
       "132642       0\n",
       "132643       0\n",
       "Name: new_tests_smoothed, Length: 132644, dtype: int32"
      ]
     },
     "execution_count": 22,
     "metadata": {},
     "output_type": "execute_result"
    }
   ],
   "source": [
    "df['new_tests_smoothed'] = df['new_tests_smoothed'].fillna(0)\n",
    "df['new_tests_smoothed'] = df['new_tests_smoothed'].astype(int)\n",
    "df['new_tests_smoothed']"
   ]
  },
  {
   "cell_type": "code",
   "execution_count": 23,
   "metadata": {},
   "outputs": [
    {
     "data": {
      "text/plain": [
       "0         0.000\n",
       "1         0.000\n",
       "2         0.000\n",
       "3         0.000\n",
       "4         0.000\n",
       "          ...  \n",
       "132639    0.191\n",
       "132640    0.000\n",
       "132641    0.000\n",
       "132642    0.000\n",
       "132643    0.000\n",
       "Name: new_tests_smoothed_per_thousand, Length: 132644, dtype: float64"
      ]
     },
     "execution_count": 23,
     "metadata": {},
     "output_type": "execute_result"
    }
   ],
   "source": [
    "df['new_tests_smoothed_per_thousand'] = df['new_tests_smoothed_per_thousand'].fillna(0)\n",
    "df['new_tests_smoothed_per_thousand'] = df['new_tests_smoothed_per_thousand'].astype(float)\n",
    "df['new_tests_smoothed_per_thousand']"
   ]
  },
  {
   "cell_type": "code",
   "execution_count": 24,
   "metadata": {},
   "outputs": [
    {
     "data": {
      "text/plain": [
       "0         0.00\n",
       "1         0.00\n",
       "2         0.00\n",
       "3         0.00\n",
       "4         0.00\n",
       "          ... \n",
       "132639    0.01\n",
       "132640    0.00\n",
       "132641    0.00\n",
       "132642    0.00\n",
       "132643    0.00\n",
       "Name: positive_rate, Length: 132644, dtype: float64"
      ]
     },
     "execution_count": 24,
     "metadata": {},
     "output_type": "execute_result"
    }
   ],
   "source": [
    "df['positive_rate'] = df['positive_rate'].fillna(0)\n",
    "df['positive_rate'] = df['positive_rate'].astype(float)\n",
    "df['positive_rate']"
   ]
  },
  {
   "cell_type": "code",
   "execution_count": 25,
   "metadata": {},
   "outputs": [
    {
     "data": {
      "text/plain": [
       "0          0.0\n",
       "1          0.0\n",
       "2          0.0\n",
       "3          0.0\n",
       "4          0.0\n",
       "          ... \n",
       "132639    96.0\n",
       "132640     0.0\n",
       "132641     0.0\n",
       "132642     0.0\n",
       "132643     0.0\n",
       "Name: tests_per_case, Length: 132644, dtype: float64"
      ]
     },
     "execution_count": 25,
     "metadata": {},
     "output_type": "execute_result"
    }
   ],
   "source": [
    "df['tests_per_case'] = df['tests_per_case'].fillna(0)\n",
    "df['tests_per_case'] = df['tests_per_case'].astype(float)\n",
    "df['tests_per_case']"
   ]
  },
  {
   "cell_type": "code",
   "execution_count": 26,
   "metadata": {},
   "outputs": [
    {
     "data": {
      "text/plain": [
       "0                 Unknown\n",
       "1                 Unknown\n",
       "2                 Unknown\n",
       "3                 Unknown\n",
       "4                 Unknown\n",
       "               ...       \n",
       "132639    tests performed\n",
       "132640            Unknown\n",
       "132641            Unknown\n",
       "132642            Unknown\n",
       "132643            Unknown\n",
       "Name: tests_units, Length: 132644, dtype: object"
      ]
     },
     "execution_count": 26,
     "metadata": {},
     "output_type": "execute_result"
    }
   ],
   "source": [
    "df['tests_units'] = df['tests_units'].fillna(\"Unknown\")\n",
    "df['tests_units']"
   ]
  },
  {
   "cell_type": "code",
   "execution_count": 27,
   "metadata": {},
   "outputs": [
    {
     "data": {
      "text/plain": [
       "0               0\n",
       "1               0\n",
       "2               0\n",
       "3               0\n",
       "4               0\n",
       "           ...   \n",
       "132639    6021461\n",
       "132640    6034324\n",
       "132641    6056713\n",
       "132642    6079213\n",
       "132643    6101678\n",
       "Name: total_vaccinations, Length: 132644, dtype: int32"
      ]
     },
     "execution_count": 27,
     "metadata": {},
     "output_type": "execute_result"
    }
   ],
   "source": [
    "df['total_vaccinations'] = df['total_vaccinations'].fillna(0)\n",
    "df['total_vaccinations'] = df['total_vaccinations'].astype(int)\n",
    "df['total_vaccinations']"
   ]
  },
  {
   "cell_type": "code",
   "execution_count": 28,
   "metadata": {},
   "outputs": [
    {
     "data": {
      "text/plain": [
       "0               0\n",
       "1               0\n",
       "2               0\n",
       "3               0\n",
       "4               0\n",
       "           ...   \n",
       "132639    3372721\n",
       "132640    3380245\n",
       "132641    3394826\n",
       "132642    3409464\n",
       "132643    3423588\n",
       "Name: people_vaccinated, Length: 132644, dtype: int32"
      ]
     },
     "execution_count": 28,
     "metadata": {},
     "output_type": "execute_result"
    }
   ],
   "source": [
    "df['people_vaccinated'] = df['people_vaccinated'].fillna(0)\n",
    "df['people_vaccinated'] = df['people_vaccinated'].astype(int)\n",
    "df['people_vaccinated']"
   ]
  },
  {
   "cell_type": "code",
   "execution_count": 29,
   "metadata": {},
   "outputs": [
    {
     "data": {
      "text/plain": [
       "0               0\n",
       "1               0\n",
       "2               0\n",
       "3               0\n",
       "4               0\n",
       "           ...   \n",
       "132639    2648740\n",
       "132640    2654079\n",
       "132641    2661887\n",
       "132642    2669749\n",
       "132643    2678090\n",
       "Name: people_fully_vaccinated, Length: 132644, dtype: int32"
      ]
     },
     "execution_count": 29,
     "metadata": {},
     "output_type": "execute_result"
    }
   ],
   "source": [
    "df['people_fully_vaccinated'] = df['people_fully_vaccinated'].fillna(0)\n",
    "df['people_fully_vaccinated'] = df['people_fully_vaccinated'].astype(int)\n",
    "df['people_fully_vaccinated']"
   ]
  },
  {
   "cell_type": "code",
   "execution_count": 30,
   "metadata": {},
   "outputs": [
    {
     "data": {
      "text/plain": [
       "0         0\n",
       "1         0\n",
       "2         0\n",
       "3         0\n",
       "4         0\n",
       "         ..\n",
       "132639    0\n",
       "132640    0\n",
       "132641    0\n",
       "132642    0\n",
       "132643    0\n",
       "Name: total_boosters, Length: 132644, dtype: int32"
      ]
     },
     "execution_count": 30,
     "metadata": {},
     "output_type": "execute_result"
    }
   ],
   "source": [
    "df['total_boosters'] = df['total_boosters'].fillna(0)\n",
    "df['total_boosters'] = df['total_boosters'].astype(int)\n",
    "df['total_boosters']"
   ]
  },
  {
   "cell_type": "code",
   "execution_count": 31,
   "metadata": {},
   "outputs": [
    {
     "data": {
      "text/plain": [
       "0             0\n",
       "1             0\n",
       "2             0\n",
       "3             0\n",
       "4             0\n",
       "          ...  \n",
       "132639    14436\n",
       "132640    12863\n",
       "132641    22389\n",
       "132642    22500\n",
       "132643    22465\n",
       "Name: new_vaccinations, Length: 132644, dtype: int32"
      ]
     },
     "execution_count": 31,
     "metadata": {},
     "output_type": "execute_result"
    }
   ],
   "source": [
    "df['new_vaccinations'] = df['new_vaccinations'].fillna(0)\n",
    "df['new_vaccinations'] = df['new_vaccinations'].astype(int)\n",
    "df['new_vaccinations']"
   ]
  },
  {
   "cell_type": "code",
   "execution_count": 32,
   "metadata": {},
   "outputs": [
    {
     "data": {
      "text/plain": [
       "0             0\n",
       "1             0\n",
       "2             0\n",
       "3             0\n",
       "4             0\n",
       "          ...  \n",
       "132639    15696\n",
       "132640    15858\n",
       "132641    16350\n",
       "132642    17168\n",
       "132643    17988\n",
       "Name: new_vaccinations_smoothed, Length: 132644, dtype: int32"
      ]
     },
     "execution_count": 32,
     "metadata": {},
     "output_type": "execute_result"
    }
   ],
   "source": [
    "df['new_vaccinations_smoothed'] = df['new_vaccinations_smoothed'].fillna(0)\n",
    "df['new_vaccinations_smoothed'] = df['new_vaccinations_smoothed'].astype(int)\n",
    "df['new_vaccinations_smoothed']"
   ]
  },
  {
   "cell_type": "code",
   "execution_count": 33,
   "metadata": {},
   "outputs": [
    {
     "data": {
      "text/plain": [
       "0            0\n",
       "1            0\n",
       "2            0\n",
       "3            0\n",
       "4            0\n",
       "          ... \n",
       "132639    1040\n",
       "132640    1051\n",
       "132641    1083\n",
       "132642    1138\n",
       "132643    1192\n",
       "Name: new_vaccinations_smoothed_per_million, Length: 132644, dtype: int32"
      ]
     },
     "execution_count": 33,
     "metadata": {},
     "output_type": "execute_result"
    }
   ],
   "source": [
    "df['new_vaccinations_smoothed_per_million'] = df['new_vaccinations_smoothed_per_million'].fillna(0)\n",
    "df['new_vaccinations_smoothed_per_million'] = df['new_vaccinations_smoothed_per_million'].astype(int)\n",
    "df['new_vaccinations_smoothed_per_million']"
   ]
  },
  {
   "cell_type": "code",
   "execution_count": 34,
   "metadata": {},
   "outputs": [
    {
     "data": {
      "text/plain": [
       "0         8.33\n",
       "1         8.33\n",
       "2         8.33\n",
       "3         8.33\n",
       "4         8.33\n",
       "          ... \n",
       "132639    0.00\n",
       "132640    0.00\n",
       "132641    0.00\n",
       "132642    0.00\n",
       "132643    0.00\n",
       "Name: stringency_index, Length: 132644, dtype: float64"
      ]
     },
     "execution_count": 34,
     "metadata": {},
     "output_type": "execute_result"
    }
   ],
   "source": [
    "df['stringency_index'] = df['stringency_index'].fillna(0)\n",
    "df['stringency_index'] = df['stringency_index'].astype(float)\n",
    "df['stringency_index']"
   ]
  },
  {
   "cell_type": "code",
   "execution_count": 35,
   "metadata": {},
   "outputs": [
    {
     "data": {
      "text/plain": [
       "0         39835428\n",
       "1         39835428\n",
       "2         39835428\n",
       "3         39835428\n",
       "4         39835428\n",
       "            ...   \n",
       "132639    15092171\n",
       "132640    15092171\n",
       "132641    15092171\n",
       "132642    15092171\n",
       "132643    15092171\n",
       "Name: population, Length: 132644, dtype: int32"
      ]
     },
     "execution_count": 35,
     "metadata": {},
     "output_type": "execute_result"
    }
   ],
   "source": [
    "df['population'] = df['population'].fillna(0)\n",
    "df['population'] = df['population'].astype(int)\n",
    "df['population']"
   ]
  },
  {
   "cell_type": "code",
   "execution_count": 36,
   "metadata": {},
   "outputs": [
    {
     "data": {
      "text/plain": [
       "0         54.422\n",
       "1         54.422\n",
       "2         54.422\n",
       "3         54.422\n",
       "4         54.422\n",
       "           ...  \n",
       "132639    42.729\n",
       "132640    42.729\n",
       "132641    42.729\n",
       "132642    42.729\n",
       "132643    42.729\n",
       "Name: population_density, Length: 132644, dtype: float64"
      ]
     },
     "execution_count": 36,
     "metadata": {},
     "output_type": "execute_result"
    }
   ],
   "source": [
    "df['population_density'] = df['population_density'].fillna(0)\n",
    "df['population_density'] = df['population_density'].astype(float)\n",
    "df['population_density']\n"
   ]
  },
  {
   "cell_type": "code",
   "execution_count": 37,
   "metadata": {},
   "outputs": [
    {
     "data": {
      "text/plain": [
       "0         18.6\n",
       "1         18.6\n",
       "2         18.6\n",
       "3         18.6\n",
       "4         18.6\n",
       "          ... \n",
       "132639    19.6\n",
       "132640    19.6\n",
       "132641    19.6\n",
       "132642    19.6\n",
       "132643    19.6\n",
       "Name: median_age, Length: 132644, dtype: float64"
      ]
     },
     "execution_count": 37,
     "metadata": {},
     "output_type": "execute_result"
    }
   ],
   "source": [
    "df['median_age'] = df['median_age'].fillna(0)\n",
    "df['median_age'] = df['median_age'].astype(float)\n",
    "df['median_age']"
   ]
  },
  {
   "cell_type": "code",
   "execution_count": 38,
   "metadata": {},
   "outputs": [
    {
     "data": {
      "text/plain": [
       "0         2.581\n",
       "1         2.581\n",
       "2         2.581\n",
       "3         2.581\n",
       "4         2.581\n",
       "          ...  \n",
       "132639    2.822\n",
       "132640    2.822\n",
       "132641    2.822\n",
       "132642    2.822\n",
       "132643    2.822\n",
       "Name: aged_65_older, Length: 132644, dtype: float64"
      ]
     },
     "execution_count": 38,
     "metadata": {},
     "output_type": "execute_result"
    }
   ],
   "source": [
    "df['aged_65_older'] = df['aged_65_older'].fillna(0)\n",
    "df['aged_65_older'] = df['aged_65_older'].astype(float)\n",
    "df['aged_65_older']"
   ]
  },
  {
   "cell_type": "code",
   "execution_count": 39,
   "metadata": {},
   "outputs": [
    {
     "data": {
      "text/plain": [
       "0         1.337\n",
       "1         1.337\n",
       "2         1.337\n",
       "3         1.337\n",
       "4         1.337\n",
       "          ...  \n",
       "132639    1.882\n",
       "132640    1.882\n",
       "132641    1.882\n",
       "132642    1.882\n",
       "132643    1.882\n",
       "Name: aged_70_older, Length: 132644, dtype: float64"
      ]
     },
     "execution_count": 39,
     "metadata": {},
     "output_type": "execute_result"
    }
   ],
   "source": [
    "df['aged_70_older'] = df['aged_70_older'].fillna(0)\n",
    "df['aged_70_older'] = df['aged_70_older'].astype(float)\n",
    "df['aged_70_older']"
   ]
  },
  {
   "cell_type": "code",
   "execution_count": 40,
   "metadata": {},
   "outputs": [
    {
     "data": {
      "text/plain": [
       "0         1803.987\n",
       "1         1803.987\n",
       "2         1803.987\n",
       "3         1803.987\n",
       "4         1803.987\n",
       "            ...   \n",
       "132639    1899.775\n",
       "132640    1899.775\n",
       "132641    1899.775\n",
       "132642    1899.775\n",
       "132643    1899.775\n",
       "Name: gdp_per_capita, Length: 132644, dtype: float64"
      ]
     },
     "execution_count": 40,
     "metadata": {},
     "output_type": "execute_result"
    }
   ],
   "source": [
    "df['gdp_per_capita'] = df['gdp_per_capita'].fillna(0)\n",
    "df['gdp_per_capita'] = df['gdp_per_capita'].astype(float)\n",
    "df['gdp_per_capita']"
   ]
  },
  {
   "cell_type": "code",
   "execution_count": 41,
   "metadata": {},
   "outputs": [
    {
     "data": {
      "text/plain": [
       "0          0.0\n",
       "1          0.0\n",
       "2          0.0\n",
       "3          0.0\n",
       "4          0.0\n",
       "          ... \n",
       "132639    21.4\n",
       "132640    21.4\n",
       "132641    21.4\n",
       "132642    21.4\n",
       "132643    21.4\n",
       "Name: extreme_poverty, Length: 132644, dtype: float64"
      ]
     },
     "execution_count": 41,
     "metadata": {},
     "output_type": "execute_result"
    }
   ],
   "source": [
    "df['extreme_poverty'] = df['extreme_poverty'].fillna(0)\n",
    "df['extreme_poverty'] = df['extreme_poverty'].astype(float)\n",
    "df['extreme_poverty']"
   ]
  },
  {
   "cell_type": "code",
   "execution_count": 42,
   "metadata": {},
   "outputs": [
    {
     "data": {
      "text/plain": [
       "0         597.029\n",
       "1         597.029\n",
       "2         597.029\n",
       "3         597.029\n",
       "4         597.029\n",
       "           ...   \n",
       "132639    307.846\n",
       "132640    307.846\n",
       "132641    307.846\n",
       "132642    307.846\n",
       "132643    307.846\n",
       "Name: cardiovasc_death_rate, Length: 132644, dtype: float64"
      ]
     },
     "execution_count": 42,
     "metadata": {},
     "output_type": "execute_result"
    }
   ],
   "source": [
    "df['cardiovasc_death_rate'] = df['cardiovasc_death_rate'].fillna(0)\n",
    "df['cardiovasc_death_rate'] = df['cardiovasc_death_rate'].astype(float)\n",
    "df['cardiovasc_death_rate']"
   ]
  },
  {
   "cell_type": "code",
   "execution_count": 43,
   "metadata": {},
   "outputs": [
    {
     "data": {
      "text/plain": [
       "0         9.59\n",
       "1         9.59\n",
       "2         9.59\n",
       "3         9.59\n",
       "4         9.59\n",
       "          ... \n",
       "132639    1.82\n",
       "132640    1.82\n",
       "132641    1.82\n",
       "132642    1.82\n",
       "132643    1.82\n",
       "Name: diabetes_prevalence, Length: 132644, dtype: float64"
      ]
     },
     "execution_count": 43,
     "metadata": {},
     "output_type": "execute_result"
    }
   ],
   "source": [
    "df['diabetes_prevalence'] = df['diabetes_prevalence'].fillna(0)\n",
    "df['diabetes_prevalence'] = df['diabetes_prevalence'].astype(float)\n",
    "df['diabetes_prevalence']"
   ]
  },
  {
   "cell_type": "code",
   "execution_count": 44,
   "metadata": {},
   "outputs": [
    {
     "data": {
      "text/plain": [
       "0         0.0\n",
       "1         0.0\n",
       "2         0.0\n",
       "3         0.0\n",
       "4         0.0\n",
       "         ... \n",
       "132639    1.6\n",
       "132640    1.6\n",
       "132641    1.6\n",
       "132642    1.6\n",
       "132643    1.6\n",
       "Name: female_smokers, Length: 132644, dtype: float64"
      ]
     },
     "execution_count": 44,
     "metadata": {},
     "output_type": "execute_result"
    }
   ],
   "source": [
    "df['female_smokers'] = df['female_smokers'].fillna(0)\n",
    "df['female_smokers'] = df['female_smokers'].astype(float)\n",
    "df['female_smokers']"
   ]
  },
  {
   "cell_type": "code",
   "execution_count": 45,
   "metadata": {},
   "outputs": [
    {
     "data": {
      "text/plain": [
       "0          0.0\n",
       "1          0.0\n",
       "2          0.0\n",
       "3          0.0\n",
       "4          0.0\n",
       "          ... \n",
       "132639    30.7\n",
       "132640    30.7\n",
       "132641    30.7\n",
       "132642    30.7\n",
       "132643    30.7\n",
       "Name: male_smokers, Length: 132644, dtype: float64"
      ]
     },
     "execution_count": 45,
     "metadata": {},
     "output_type": "execute_result"
    }
   ],
   "source": [
    "df['male_smokers'] = df['male_smokers'].fillna(0)\n",
    "df['male_smokers'] = df['male_smokers'].astype(float)\n",
    "df['male_smokers']"
   ]
  },
  {
   "cell_type": "code",
   "execution_count": 46,
   "metadata": {},
   "outputs": [
    {
     "data": {
      "text/plain": [
       "0         37.746\n",
       "1         37.746\n",
       "2         37.746\n",
       "3         37.746\n",
       "4         37.746\n",
       "           ...  \n",
       "132639    36.791\n",
       "132640    36.791\n",
       "132641    36.791\n",
       "132642    36.791\n",
       "132643    36.791\n",
       "Name: handwashing_facilities, Length: 132644, dtype: float64"
      ]
     },
     "execution_count": 46,
     "metadata": {},
     "output_type": "execute_result"
    }
   ],
   "source": [
    "df['handwashing_facilities'] = df['handwashing_facilities'].fillna(0)\n",
    "df['handwashing_facilities'] = df['handwashing_facilities'].astype(float)\n",
    "df['handwashing_facilities']"
   ]
  },
  {
   "cell_type": "code",
   "execution_count": 47,
   "metadata": {},
   "outputs": [
    {
     "data": {
      "text/plain": [
       "0         0.5\n",
       "1         0.5\n",
       "2         0.5\n",
       "3         0.5\n",
       "4         0.5\n",
       "         ... \n",
       "132639    1.7\n",
       "132640    1.7\n",
       "132641    1.7\n",
       "132642    1.7\n",
       "132643    1.7\n",
       "Name: hospital_beds_per_thousand, Length: 132644, dtype: float64"
      ]
     },
     "execution_count": 47,
     "metadata": {},
     "output_type": "execute_result"
    }
   ],
   "source": [
    "df['hospital_beds_per_thousand'] = df['hospital_beds_per_thousand'].fillna(0)\n",
    "df['hospital_beds_per_thousand'] = df['hospital_beds_per_thousand'].astype(float)\n",
    "df['hospital_beds_per_thousand']"
   ]
  },
  {
   "cell_type": "code",
   "execution_count": 48,
   "metadata": {},
   "outputs": [
    {
     "data": {
      "text/plain": [
       "0         64.83\n",
       "1         64.83\n",
       "2         64.83\n",
       "3         64.83\n",
       "4         64.83\n",
       "          ...  \n",
       "132639    61.49\n",
       "132640    61.49\n",
       "132641    61.49\n",
       "132642    61.49\n",
       "132643    61.49\n",
       "Name: life_expectancy, Length: 132644, dtype: float64"
      ]
     },
     "execution_count": 48,
     "metadata": {},
     "output_type": "execute_result"
    }
   ],
   "source": [
    "df['life_expectancy'] = df['life_expectancy'].fillna(0)\n",
    "df['life_expectancy'] = df['life_expectancy'].astype(float)\n",
    "df['life_expectancy']"
   ]
  },
  {
   "cell_type": "code",
   "execution_count": 49,
   "metadata": {},
   "outputs": [
    {
     "data": {
      "text/plain": [
       "0         0.511\n",
       "1         0.511\n",
       "2         0.511\n",
       "3         0.511\n",
       "4         0.511\n",
       "          ...  \n",
       "132639    0.571\n",
       "132640    0.571\n",
       "132641    0.571\n",
       "132642    0.571\n",
       "132643    0.571\n",
       "Name: human_development_index, Length: 132644, dtype: float64"
      ]
     },
     "execution_count": 49,
     "metadata": {},
     "output_type": "execute_result"
    }
   ],
   "source": [
    "df['human_development_index'] = df['human_development_index'].fillna(0)\n",
    "df['human_development_index'] = df['human_development_index'].astype(float)\n",
    "df['human_development_index']"
   ]
  },
  {
   "cell_type": "code",
   "execution_count": 50,
   "metadata": {},
   "outputs": [],
   "source": [
    "df = df.drop(['continent', 'location', 'icu_patients', 'icu_patients_per_million', 'hosp_patients', 'hosp_patients_per_million',\n",
    "            'weekly_icu_admissions', 'weekly_icu_admissions_per_million', 'weekly_hosp_admissions', 'weekly_hosp_admissions_per_million',\n",
    "            'total_vaccinations_per_hundred', 'people_vaccinated_per_hundred', 'people_fully_vaccinated_per_hundred', 'total_boosters_per_hundred',\n",
    "            'excess_mortality_cumulative_absolute', 'excess_mortality_cumulative', 'excess_mortality',\n",
    "            'excess_mortality_cumulative_per_million'], axis = 1)\n"
   ]
  },
  {
   "cell_type": "code",
   "execution_count": 51,
   "metadata": {},
   "outputs": [],
   "source": [
    "df.to_csv(\"../Data/Clean Data/New_Updated_Data.csv\", index= False)"
   ]
  },
  {
   "cell_type": "code",
   "execution_count": 60,
   "metadata": {},
   "outputs": [
    {
     "data": {
      "text/html": [
       "<div>\n",
       "<style scoped>\n",
       "    .dataframe tbody tr th:only-of-type {\n",
       "        vertical-align: middle;\n",
       "    }\n",
       "\n",
       "    .dataframe tbody tr th {\n",
       "        vertical-align: top;\n",
       "    }\n",
       "\n",
       "    .dataframe thead th {\n",
       "        text-align: right;\n",
       "    }\n",
       "</style>\n",
       "<table border=\"1\" class=\"dataframe\">\n",
       "  <thead>\n",
       "    <tr style=\"text-align: right;\">\n",
       "      <th></th>\n",
       "      <th>iso_code</th>\n",
       "      <th>population</th>\n",
       "      <th>population_density</th>\n",
       "    </tr>\n",
       "  </thead>\n",
       "  <tbody>\n",
       "    <tr>\n",
       "      <th>0</th>\n",
       "      <td>AFG</td>\n",
       "      <td>39835428</td>\n",
       "      <td>54.422</td>\n",
       "    </tr>\n",
       "    <tr>\n",
       "      <th>1</th>\n",
       "      <td>OWID_AFR</td>\n",
       "      <td>1373486472</td>\n",
       "      <td>0.000</td>\n",
       "    </tr>\n",
       "    <tr>\n",
       "      <th>2</th>\n",
       "      <td>ALB</td>\n",
       "      <td>2872934</td>\n",
       "      <td>104.871</td>\n",
       "    </tr>\n",
       "    <tr>\n",
       "      <th>3</th>\n",
       "      <td>DZA</td>\n",
       "      <td>44616626</td>\n",
       "      <td>17.348</td>\n",
       "    </tr>\n",
       "    <tr>\n",
       "      <th>4</th>\n",
       "      <td>AND</td>\n",
       "      <td>77354</td>\n",
       "      <td>163.755</td>\n",
       "    </tr>\n",
       "    <tr>\n",
       "      <th>...</th>\n",
       "      <td>...</td>\n",
       "      <td>...</td>\n",
       "      <td>...</td>\n",
       "    </tr>\n",
       "    <tr>\n",
       "      <th>232</th>\n",
       "      <td>WLF</td>\n",
       "      <td>11094</td>\n",
       "      <td>0.000</td>\n",
       "    </tr>\n",
       "    <tr>\n",
       "      <th>233</th>\n",
       "      <td>OWID_WRL</td>\n",
       "      <td>-2147483648</td>\n",
       "      <td>58.045</td>\n",
       "    </tr>\n",
       "    <tr>\n",
       "      <th>234</th>\n",
       "      <td>YEM</td>\n",
       "      <td>30490639</td>\n",
       "      <td>53.508</td>\n",
       "    </tr>\n",
       "    <tr>\n",
       "      <th>235</th>\n",
       "      <td>ZMB</td>\n",
       "      <td>18920657</td>\n",
       "      <td>22.995</td>\n",
       "    </tr>\n",
       "    <tr>\n",
       "      <th>236</th>\n",
       "      <td>ZWE</td>\n",
       "      <td>15092171</td>\n",
       "      <td>42.729</td>\n",
       "    </tr>\n",
       "  </tbody>\n",
       "</table>\n",
       "<p>237 rows × 3 columns</p>\n",
       "</div>"
      ],
      "text/plain": [
       "     iso_code  population  population_density\n",
       "0         AFG    39835428              54.422\n",
       "1    OWID_AFR  1373486472               0.000\n",
       "2         ALB     2872934             104.871\n",
       "3         DZA    44616626              17.348\n",
       "4         AND       77354             163.755\n",
       "..        ...         ...                 ...\n",
       "232       WLF       11094               0.000\n",
       "233  OWID_WRL -2147483648              58.045\n",
       "234       YEM    30490639              53.508\n",
       "235       ZMB    18920657              22.995\n",
       "236       ZWE    15092171              42.729\n",
       "\n",
       "[237 rows x 3 columns]"
      ]
     },
     "execution_count": 60,
     "metadata": {},
     "output_type": "execute_result"
    }
   ],
   "source": [
    "population_df = df[['iso_code', 'population', 'population_density']]\n",
    "population_df = population_df.drop_duplicates()\n",
    "population_df = population_df.reset_index(drop= True)\n",
    "population_df"
   ]
  },
  {
   "cell_type": "code",
   "execution_count": 61,
   "metadata": {},
   "outputs": [],
   "source": [
    "population_df.to_csv(\"../Data/Clean Data/world_population.csv\", index= False)"
   ]
  },
  {
   "cell_type": "code",
   "execution_count": 62,
   "metadata": {},
   "outputs": [
    {
     "data": {
      "text/html": [
       "<div>\n",
       "<style scoped>\n",
       "    .dataframe tbody tr th:only-of-type {\n",
       "        vertical-align: middle;\n",
       "    }\n",
       "\n",
       "    .dataframe tbody tr th {\n",
       "        vertical-align: top;\n",
       "    }\n",
       "\n",
       "    .dataframe thead th {\n",
       "        text-align: right;\n",
       "    }\n",
       "</style>\n",
       "<table border=\"1\" class=\"dataframe\">\n",
       "  <thead>\n",
       "    <tr style=\"text-align: right;\">\n",
       "      <th></th>\n",
       "      <th>iso_code</th>\n",
       "      <th>median_age</th>\n",
       "      <th>aged_65_older</th>\n",
       "      <th>aged_70_older</th>\n",
       "      <th>life_expectancy</th>\n",
       "    </tr>\n",
       "  </thead>\n",
       "  <tbody>\n",
       "    <tr>\n",
       "      <th>0</th>\n",
       "      <td>AFG</td>\n",
       "      <td>18.6</td>\n",
       "      <td>2.581</td>\n",
       "      <td>1.337</td>\n",
       "      <td>64.83</td>\n",
       "    </tr>\n",
       "    <tr>\n",
       "      <th>1</th>\n",
       "      <td>OWID_AFR</td>\n",
       "      <td>0.0</td>\n",
       "      <td>0.000</td>\n",
       "      <td>0.000</td>\n",
       "      <td>0.00</td>\n",
       "    </tr>\n",
       "    <tr>\n",
       "      <th>2</th>\n",
       "      <td>ALB</td>\n",
       "      <td>38.0</td>\n",
       "      <td>13.188</td>\n",
       "      <td>8.643</td>\n",
       "      <td>78.57</td>\n",
       "    </tr>\n",
       "    <tr>\n",
       "      <th>3</th>\n",
       "      <td>DZA</td>\n",
       "      <td>29.1</td>\n",
       "      <td>6.211</td>\n",
       "      <td>3.857</td>\n",
       "      <td>76.88</td>\n",
       "    </tr>\n",
       "    <tr>\n",
       "      <th>4</th>\n",
       "      <td>AND</td>\n",
       "      <td>0.0</td>\n",
       "      <td>0.000</td>\n",
       "      <td>0.000</td>\n",
       "      <td>83.73</td>\n",
       "    </tr>\n",
       "    <tr>\n",
       "      <th>...</th>\n",
       "      <td>...</td>\n",
       "      <td>...</td>\n",
       "      <td>...</td>\n",
       "      <td>...</td>\n",
       "      <td>...</td>\n",
       "    </tr>\n",
       "    <tr>\n",
       "      <th>232</th>\n",
       "      <td>WLF</td>\n",
       "      <td>0.0</td>\n",
       "      <td>0.000</td>\n",
       "      <td>0.000</td>\n",
       "      <td>79.94</td>\n",
       "    </tr>\n",
       "    <tr>\n",
       "      <th>233</th>\n",
       "      <td>OWID_WRL</td>\n",
       "      <td>30.9</td>\n",
       "      <td>8.696</td>\n",
       "      <td>5.355</td>\n",
       "      <td>72.58</td>\n",
       "    </tr>\n",
       "    <tr>\n",
       "      <th>234</th>\n",
       "      <td>YEM</td>\n",
       "      <td>20.3</td>\n",
       "      <td>2.922</td>\n",
       "      <td>1.583</td>\n",
       "      <td>66.12</td>\n",
       "    </tr>\n",
       "    <tr>\n",
       "      <th>235</th>\n",
       "      <td>ZMB</td>\n",
       "      <td>17.7</td>\n",
       "      <td>2.480</td>\n",
       "      <td>1.542</td>\n",
       "      <td>63.89</td>\n",
       "    </tr>\n",
       "    <tr>\n",
       "      <th>236</th>\n",
       "      <td>ZWE</td>\n",
       "      <td>19.6</td>\n",
       "      <td>2.822</td>\n",
       "      <td>1.882</td>\n",
       "      <td>61.49</td>\n",
       "    </tr>\n",
       "  </tbody>\n",
       "</table>\n",
       "<p>237 rows × 5 columns</p>\n",
       "</div>"
      ],
      "text/plain": [
       "     iso_code  median_age  aged_65_older  aged_70_older  life_expectancy\n",
       "0         AFG        18.6          2.581          1.337            64.83\n",
       "1    OWID_AFR         0.0          0.000          0.000             0.00\n",
       "2         ALB        38.0         13.188          8.643            78.57\n",
       "3         DZA        29.1          6.211          3.857            76.88\n",
       "4         AND         0.0          0.000          0.000            83.73\n",
       "..        ...         ...            ...            ...              ...\n",
       "232       WLF         0.0          0.000          0.000            79.94\n",
       "233  OWID_WRL        30.9          8.696          5.355            72.58\n",
       "234       YEM        20.3          2.922          1.583            66.12\n",
       "235       ZMB        17.7          2.480          1.542            63.89\n",
       "236       ZWE        19.6          2.822          1.882            61.49\n",
       "\n",
       "[237 rows x 5 columns]"
      ]
     },
     "execution_count": 62,
     "metadata": {},
     "output_type": "execute_result"
    }
   ],
   "source": [
    "age_df = df[['iso_code', 'median_age', 'aged_65_older', 'aged_70_older', 'life_expectancy']]\n",
    "age_df = age_df.drop_duplicates()\n",
    "age_df = age_df.reset_index(drop= True)\n",
    "age_df"
   ]
  },
  {
   "cell_type": "code",
   "execution_count": 63,
   "metadata": {},
   "outputs": [],
   "source": [
    "age_df.to_csv(\"../Data/Clean Data/age_distribution.csv\", index= False)"
   ]
  },
  {
   "cell_type": "code",
   "execution_count": 64,
   "metadata": {},
   "outputs": [
    {
     "data": {
      "text/html": [
       "<div>\n",
       "<style scoped>\n",
       "    .dataframe tbody tr th:only-of-type {\n",
       "        vertical-align: middle;\n",
       "    }\n",
       "\n",
       "    .dataframe tbody tr th {\n",
       "        vertical-align: top;\n",
       "    }\n",
       "\n",
       "    .dataframe thead th {\n",
       "        text-align: right;\n",
       "    }\n",
       "</style>\n",
       "<table border=\"1\" class=\"dataframe\">\n",
       "  <thead>\n",
       "    <tr style=\"text-align: right;\">\n",
       "      <th></th>\n",
       "      <th>iso_code</th>\n",
       "      <th>gdp_per_capita</th>\n",
       "      <th>extreme_poverty</th>\n",
       "      <th>human_development_index</th>\n",
       "    </tr>\n",
       "  </thead>\n",
       "  <tbody>\n",
       "    <tr>\n",
       "      <th>0</th>\n",
       "      <td>AFG</td>\n",
       "      <td>1803.987</td>\n",
       "      <td>0.0</td>\n",
       "      <td>0.511</td>\n",
       "    </tr>\n",
       "    <tr>\n",
       "      <th>1</th>\n",
       "      <td>OWID_AFR</td>\n",
       "      <td>0.000</td>\n",
       "      <td>0.0</td>\n",
       "      <td>0.000</td>\n",
       "    </tr>\n",
       "    <tr>\n",
       "      <th>2</th>\n",
       "      <td>ALB</td>\n",
       "      <td>11803.431</td>\n",
       "      <td>1.1</td>\n",
       "      <td>0.795</td>\n",
       "    </tr>\n",
       "    <tr>\n",
       "      <th>3</th>\n",
       "      <td>DZA</td>\n",
       "      <td>13913.839</td>\n",
       "      <td>0.5</td>\n",
       "      <td>0.748</td>\n",
       "    </tr>\n",
       "    <tr>\n",
       "      <th>4</th>\n",
       "      <td>AND</td>\n",
       "      <td>0.000</td>\n",
       "      <td>0.0</td>\n",
       "      <td>0.868</td>\n",
       "    </tr>\n",
       "    <tr>\n",
       "      <th>...</th>\n",
       "      <td>...</td>\n",
       "      <td>...</td>\n",
       "      <td>...</td>\n",
       "      <td>...</td>\n",
       "    </tr>\n",
       "    <tr>\n",
       "      <th>232</th>\n",
       "      <td>WLF</td>\n",
       "      <td>0.000</td>\n",
       "      <td>0.0</td>\n",
       "      <td>0.000</td>\n",
       "    </tr>\n",
       "    <tr>\n",
       "      <th>233</th>\n",
       "      <td>OWID_WRL</td>\n",
       "      <td>15469.207</td>\n",
       "      <td>10.0</td>\n",
       "      <td>0.737</td>\n",
       "    </tr>\n",
       "    <tr>\n",
       "      <th>234</th>\n",
       "      <td>YEM</td>\n",
       "      <td>1479.147</td>\n",
       "      <td>18.8</td>\n",
       "      <td>0.470</td>\n",
       "    </tr>\n",
       "    <tr>\n",
       "      <th>235</th>\n",
       "      <td>ZMB</td>\n",
       "      <td>3689.251</td>\n",
       "      <td>57.5</td>\n",
       "      <td>0.584</td>\n",
       "    </tr>\n",
       "    <tr>\n",
       "      <th>236</th>\n",
       "      <td>ZWE</td>\n",
       "      <td>1899.775</td>\n",
       "      <td>21.4</td>\n",
       "      <td>0.571</td>\n",
       "    </tr>\n",
       "  </tbody>\n",
       "</table>\n",
       "<p>237 rows × 4 columns</p>\n",
       "</div>"
      ],
      "text/plain": [
       "     iso_code  gdp_per_capita  extreme_poverty  human_development_index\n",
       "0         AFG        1803.987              0.0                    0.511\n",
       "1    OWID_AFR           0.000              0.0                    0.000\n",
       "2         ALB       11803.431              1.1                    0.795\n",
       "3         DZA       13913.839              0.5                    0.748\n",
       "4         AND           0.000              0.0                    0.868\n",
       "..        ...             ...              ...                      ...\n",
       "232       WLF           0.000              0.0                    0.000\n",
       "233  OWID_WRL       15469.207             10.0                    0.737\n",
       "234       YEM        1479.147             18.8                    0.470\n",
       "235       ZMB        3689.251             57.5                    0.584\n",
       "236       ZWE        1899.775             21.4                    0.571\n",
       "\n",
       "[237 rows x 4 columns]"
      ]
     },
     "execution_count": 64,
     "metadata": {},
     "output_type": "execute_result"
    }
   ],
   "source": [
    "gdp_df = df[['iso_code', 'gdp_per_capita', 'extreme_poverty', 'human_development_index']]\n",
    "gdp_df = gdp_df.drop_duplicates()\n",
    "gdp_df = gdp_df.reset_index(drop= True)\n",
    "gdp_df"
   ]
  },
  {
   "cell_type": "code",
   "execution_count": 65,
   "metadata": {},
   "outputs": [],
   "source": [
    "gdp_df.to_csv(\"../Data/Clean Data/world_gdp.csv\", index= False)"
   ]
  },
  {
   "cell_type": "code",
   "execution_count": 66,
   "metadata": {},
   "outputs": [
    {
     "data": {
      "text/html": [
       "<div>\n",
       "<style scoped>\n",
       "    .dataframe tbody tr th:only-of-type {\n",
       "        vertical-align: middle;\n",
       "    }\n",
       "\n",
       "    .dataframe tbody tr th {\n",
       "        vertical-align: top;\n",
       "    }\n",
       "\n",
       "    .dataframe thead th {\n",
       "        text-align: right;\n",
       "    }\n",
       "</style>\n",
       "<table border=\"1\" class=\"dataframe\">\n",
       "  <thead>\n",
       "    <tr style=\"text-align: right;\">\n",
       "      <th></th>\n",
       "      <th>iso_code</th>\n",
       "      <th>cardiovasc_death_rate</th>\n",
       "      <th>diabetes_prevalence</th>\n",
       "      <th>female_smokers</th>\n",
       "      <th>male_smokers</th>\n",
       "      <th>handwashing_facilities</th>\n",
       "      <th>hospital_beds_per_thousand</th>\n",
       "    </tr>\n",
       "  </thead>\n",
       "  <tbody>\n",
       "    <tr>\n",
       "      <th>0</th>\n",
       "      <td>AFG</td>\n",
       "      <td>597.029</td>\n",
       "      <td>9.59</td>\n",
       "      <td>0.000</td>\n",
       "      <td>0.000</td>\n",
       "      <td>37.746</td>\n",
       "      <td>0.500</td>\n",
       "    </tr>\n",
       "    <tr>\n",
       "      <th>1</th>\n",
       "      <td>OWID_AFR</td>\n",
       "      <td>0.000</td>\n",
       "      <td>0.00</td>\n",
       "      <td>0.000</td>\n",
       "      <td>0.000</td>\n",
       "      <td>0.000</td>\n",
       "      <td>0.000</td>\n",
       "    </tr>\n",
       "    <tr>\n",
       "      <th>2</th>\n",
       "      <td>ALB</td>\n",
       "      <td>304.195</td>\n",
       "      <td>10.08</td>\n",
       "      <td>7.100</td>\n",
       "      <td>51.200</td>\n",
       "      <td>0.000</td>\n",
       "      <td>2.890</td>\n",
       "    </tr>\n",
       "    <tr>\n",
       "      <th>3</th>\n",
       "      <td>DZA</td>\n",
       "      <td>278.364</td>\n",
       "      <td>6.73</td>\n",
       "      <td>0.700</td>\n",
       "      <td>30.400</td>\n",
       "      <td>83.741</td>\n",
       "      <td>1.900</td>\n",
       "    </tr>\n",
       "    <tr>\n",
       "      <th>4</th>\n",
       "      <td>AND</td>\n",
       "      <td>109.135</td>\n",
       "      <td>7.97</td>\n",
       "      <td>29.000</td>\n",
       "      <td>37.800</td>\n",
       "      <td>0.000</td>\n",
       "      <td>0.000</td>\n",
       "    </tr>\n",
       "    <tr>\n",
       "      <th>...</th>\n",
       "      <td>...</td>\n",
       "      <td>...</td>\n",
       "      <td>...</td>\n",
       "      <td>...</td>\n",
       "      <td>...</td>\n",
       "      <td>...</td>\n",
       "      <td>...</td>\n",
       "    </tr>\n",
       "    <tr>\n",
       "      <th>232</th>\n",
       "      <td>WLF</td>\n",
       "      <td>0.000</td>\n",
       "      <td>0.00</td>\n",
       "      <td>0.000</td>\n",
       "      <td>0.000</td>\n",
       "      <td>0.000</td>\n",
       "      <td>0.000</td>\n",
       "    </tr>\n",
       "    <tr>\n",
       "      <th>233</th>\n",
       "      <td>OWID_WRL</td>\n",
       "      <td>233.070</td>\n",
       "      <td>8.51</td>\n",
       "      <td>6.434</td>\n",
       "      <td>34.635</td>\n",
       "      <td>60.130</td>\n",
       "      <td>2.705</td>\n",
       "    </tr>\n",
       "    <tr>\n",
       "      <th>234</th>\n",
       "      <td>YEM</td>\n",
       "      <td>495.003</td>\n",
       "      <td>5.35</td>\n",
       "      <td>7.600</td>\n",
       "      <td>29.200</td>\n",
       "      <td>49.542</td>\n",
       "      <td>0.700</td>\n",
       "    </tr>\n",
       "    <tr>\n",
       "      <th>235</th>\n",
       "      <td>ZMB</td>\n",
       "      <td>234.499</td>\n",
       "      <td>3.94</td>\n",
       "      <td>3.100</td>\n",
       "      <td>24.700</td>\n",
       "      <td>13.938</td>\n",
       "      <td>2.000</td>\n",
       "    </tr>\n",
       "    <tr>\n",
       "      <th>236</th>\n",
       "      <td>ZWE</td>\n",
       "      <td>307.846</td>\n",
       "      <td>1.82</td>\n",
       "      <td>1.600</td>\n",
       "      <td>30.700</td>\n",
       "      <td>36.791</td>\n",
       "      <td>1.700</td>\n",
       "    </tr>\n",
       "  </tbody>\n",
       "</table>\n",
       "<p>237 rows × 7 columns</p>\n",
       "</div>"
      ],
      "text/plain": [
       "     iso_code  cardiovasc_death_rate  diabetes_prevalence  female_smokers  \\\n",
       "0         AFG                597.029                 9.59           0.000   \n",
       "1    OWID_AFR                  0.000                 0.00           0.000   \n",
       "2         ALB                304.195                10.08           7.100   \n",
       "3         DZA                278.364                 6.73           0.700   \n",
       "4         AND                109.135                 7.97          29.000   \n",
       "..        ...                    ...                  ...             ...   \n",
       "232       WLF                  0.000                 0.00           0.000   \n",
       "233  OWID_WRL                233.070                 8.51           6.434   \n",
       "234       YEM                495.003                 5.35           7.600   \n",
       "235       ZMB                234.499                 3.94           3.100   \n",
       "236       ZWE                307.846                 1.82           1.600   \n",
       "\n",
       "     male_smokers  handwashing_facilities  hospital_beds_per_thousand  \n",
       "0           0.000                  37.746                       0.500  \n",
       "1           0.000                   0.000                       0.000  \n",
       "2          51.200                   0.000                       2.890  \n",
       "3          30.400                  83.741                       1.900  \n",
       "4          37.800                   0.000                       0.000  \n",
       "..            ...                     ...                         ...  \n",
       "232         0.000                   0.000                       0.000  \n",
       "233        34.635                  60.130                       2.705  \n",
       "234        29.200                  49.542                       0.700  \n",
       "235        24.700                  13.938                       2.000  \n",
       "236        30.700                  36.791                       1.700  \n",
       "\n",
       "[237 rows x 7 columns]"
      ]
     },
     "execution_count": 66,
     "metadata": {},
     "output_type": "execute_result"
    }
   ],
   "source": [
    "mixed_data_df = df[['iso_code', 'cardiovasc_death_rate', 'diabetes_prevalence', 'female_smokers', 'male_smokers', 'handwashing_facilities',\n",
    "                    'hospital_beds_per_thousand']]\n",
    "mixed_data_df = mixed_data_df.drop_duplicates()\n",
    "mixed_data_df = mixed_data_df.reset_index(drop= True)\n",
    "mixed_data_df"
   ]
  },
  {
   "cell_type": "code",
   "execution_count": 67,
   "metadata": {},
   "outputs": [],
   "source": [
    "mixed_data_df.to_csv(\"../Data/Clean Data/mixed_data.csv\", index= False)"
   ]
  },
  {
   "cell_type": "code",
   "execution_count": 75,
   "metadata": {},
   "outputs": [
    {
     "data": {
      "text/html": [
       "<div>\n",
       "<style scoped>\n",
       "    .dataframe tbody tr th:only-of-type {\n",
       "        vertical-align: middle;\n",
       "    }\n",
       "\n",
       "    .dataframe tbody tr th {\n",
       "        vertical-align: top;\n",
       "    }\n",
       "\n",
       "    .dataframe thead th {\n",
       "        text-align: right;\n",
       "    }\n",
       "</style>\n",
       "<table border=\"1\" class=\"dataframe\">\n",
       "  <thead>\n",
       "    <tr style=\"text-align: right;\">\n",
       "      <th></th>\n",
       "      <th>iso_code</th>\n",
       "      <th>date</th>\n",
       "      <th>total_cases</th>\n",
       "      <th>new_cases</th>\n",
       "      <th>new_cases_smoothed</th>\n",
       "      <th>total_deaths</th>\n",
       "      <th>new_deaths</th>\n",
       "      <th>new_deaths_smoothed</th>\n",
       "      <th>total_cases_per_million</th>\n",
       "      <th>new_cases_per_million</th>\n",
       "      <th>...</th>\n",
       "      <th>tests_per_case</th>\n",
       "      <th>tests_units</th>\n",
       "      <th>total_vaccinations</th>\n",
       "      <th>people_vaccinated</th>\n",
       "      <th>people_fully_vaccinated</th>\n",
       "      <th>total_boosters</th>\n",
       "      <th>new_vaccinations</th>\n",
       "      <th>new_vaccinations_smoothed</th>\n",
       "      <th>new_vaccinations_smoothed_per_million</th>\n",
       "      <th>stringency_index</th>\n",
       "    </tr>\n",
       "  </thead>\n",
       "  <tbody>\n",
       "    <tr>\n",
       "      <th>0</th>\n",
       "      <td>AFG</td>\n",
       "      <td>2020-02-24</td>\n",
       "      <td>5</td>\n",
       "      <td>5</td>\n",
       "      <td>0.000</td>\n",
       "      <td>0</td>\n",
       "      <td>0</td>\n",
       "      <td>0.000</td>\n",
       "      <td>0.126</td>\n",
       "      <td>0.126</td>\n",
       "      <td>...</td>\n",
       "      <td>0.0</td>\n",
       "      <td>Unknown</td>\n",
       "      <td>0</td>\n",
       "      <td>0</td>\n",
       "      <td>0</td>\n",
       "      <td>0</td>\n",
       "      <td>0</td>\n",
       "      <td>0</td>\n",
       "      <td>0</td>\n",
       "      <td>8.33</td>\n",
       "    </tr>\n",
       "    <tr>\n",
       "      <th>1</th>\n",
       "      <td>AFG</td>\n",
       "      <td>2020-02-25</td>\n",
       "      <td>5</td>\n",
       "      <td>0</td>\n",
       "      <td>0.000</td>\n",
       "      <td>0</td>\n",
       "      <td>0</td>\n",
       "      <td>0.000</td>\n",
       "      <td>0.126</td>\n",
       "      <td>0.000</td>\n",
       "      <td>...</td>\n",
       "      <td>0.0</td>\n",
       "      <td>Unknown</td>\n",
       "      <td>0</td>\n",
       "      <td>0</td>\n",
       "      <td>0</td>\n",
       "      <td>0</td>\n",
       "      <td>0</td>\n",
       "      <td>0</td>\n",
       "      <td>0</td>\n",
       "      <td>8.33</td>\n",
       "    </tr>\n",
       "    <tr>\n",
       "      <th>2</th>\n",
       "      <td>AFG</td>\n",
       "      <td>2020-02-26</td>\n",
       "      <td>5</td>\n",
       "      <td>0</td>\n",
       "      <td>0.000</td>\n",
       "      <td>0</td>\n",
       "      <td>0</td>\n",
       "      <td>0.000</td>\n",
       "      <td>0.126</td>\n",
       "      <td>0.000</td>\n",
       "      <td>...</td>\n",
       "      <td>0.0</td>\n",
       "      <td>Unknown</td>\n",
       "      <td>0</td>\n",
       "      <td>0</td>\n",
       "      <td>0</td>\n",
       "      <td>0</td>\n",
       "      <td>0</td>\n",
       "      <td>0</td>\n",
       "      <td>0</td>\n",
       "      <td>8.33</td>\n",
       "    </tr>\n",
       "    <tr>\n",
       "      <th>3</th>\n",
       "      <td>AFG</td>\n",
       "      <td>2020-02-27</td>\n",
       "      <td>5</td>\n",
       "      <td>0</td>\n",
       "      <td>0.000</td>\n",
       "      <td>0</td>\n",
       "      <td>0</td>\n",
       "      <td>0.000</td>\n",
       "      <td>0.126</td>\n",
       "      <td>0.000</td>\n",
       "      <td>...</td>\n",
       "      <td>0.0</td>\n",
       "      <td>Unknown</td>\n",
       "      <td>0</td>\n",
       "      <td>0</td>\n",
       "      <td>0</td>\n",
       "      <td>0</td>\n",
       "      <td>0</td>\n",
       "      <td>0</td>\n",
       "      <td>0</td>\n",
       "      <td>8.33</td>\n",
       "    </tr>\n",
       "    <tr>\n",
       "      <th>4</th>\n",
       "      <td>AFG</td>\n",
       "      <td>2020-02-28</td>\n",
       "      <td>5</td>\n",
       "      <td>0</td>\n",
       "      <td>0.000</td>\n",
       "      <td>0</td>\n",
       "      <td>0</td>\n",
       "      <td>0.000</td>\n",
       "      <td>0.126</td>\n",
       "      <td>0.000</td>\n",
       "      <td>...</td>\n",
       "      <td>0.0</td>\n",
       "      <td>Unknown</td>\n",
       "      <td>0</td>\n",
       "      <td>0</td>\n",
       "      <td>0</td>\n",
       "      <td>0</td>\n",
       "      <td>0</td>\n",
       "      <td>0</td>\n",
       "      <td>0</td>\n",
       "      <td>8.33</td>\n",
       "    </tr>\n",
       "    <tr>\n",
       "      <th>...</th>\n",
       "      <td>...</td>\n",
       "      <td>...</td>\n",
       "      <td>...</td>\n",
       "      <td>...</td>\n",
       "      <td>...</td>\n",
       "      <td>...</td>\n",
       "      <td>...</td>\n",
       "      <td>...</td>\n",
       "      <td>...</td>\n",
       "      <td>...</td>\n",
       "      <td>...</td>\n",
       "      <td>...</td>\n",
       "      <td>...</td>\n",
       "      <td>...</td>\n",
       "      <td>...</td>\n",
       "      <td>...</td>\n",
       "      <td>...</td>\n",
       "      <td>...</td>\n",
       "      <td>...</td>\n",
       "      <td>...</td>\n",
       "      <td>...</td>\n",
       "    </tr>\n",
       "    <tr>\n",
       "      <th>132639</th>\n",
       "      <td>ZWE</td>\n",
       "      <td>2021-11-07</td>\n",
       "      <td>133187</td>\n",
       "      <td>19</td>\n",
       "      <td>30.000</td>\n",
       "      <td>4685</td>\n",
       "      <td>0</td>\n",
       "      <td>1.000</td>\n",
       "      <td>8824.907</td>\n",
       "      <td>1.259</td>\n",
       "      <td>...</td>\n",
       "      <td>96.0</td>\n",
       "      <td>tests performed</td>\n",
       "      <td>6021461</td>\n",
       "      <td>3372721</td>\n",
       "      <td>2648740</td>\n",
       "      <td>0</td>\n",
       "      <td>14436</td>\n",
       "      <td>15696</td>\n",
       "      <td>1040</td>\n",
       "      <td>0.00</td>\n",
       "    </tr>\n",
       "    <tr>\n",
       "      <th>132640</th>\n",
       "      <td>ZWE</td>\n",
       "      <td>2021-11-08</td>\n",
       "      <td>133205</td>\n",
       "      <td>18</td>\n",
       "      <td>28.286</td>\n",
       "      <td>4690</td>\n",
       "      <td>5</td>\n",
       "      <td>1.571</td>\n",
       "      <td>8826.099</td>\n",
       "      <td>1.193</td>\n",
       "      <td>...</td>\n",
       "      <td>0.0</td>\n",
       "      <td>Unknown</td>\n",
       "      <td>6034324</td>\n",
       "      <td>3380245</td>\n",
       "      <td>2654079</td>\n",
       "      <td>0</td>\n",
       "      <td>12863</td>\n",
       "      <td>15858</td>\n",
       "      <td>1051</td>\n",
       "      <td>0.00</td>\n",
       "    </tr>\n",
       "    <tr>\n",
       "      <th>132641</th>\n",
       "      <td>ZWE</td>\n",
       "      <td>2021-11-09</td>\n",
       "      <td>133242</td>\n",
       "      <td>37</td>\n",
       "      <td>27.857</td>\n",
       "      <td>4691</td>\n",
       "      <td>1</td>\n",
       "      <td>1.143</td>\n",
       "      <td>8828.551</td>\n",
       "      <td>2.452</td>\n",
       "      <td>...</td>\n",
       "      <td>0.0</td>\n",
       "      <td>Unknown</td>\n",
       "      <td>6056713</td>\n",
       "      <td>3394826</td>\n",
       "      <td>2661887</td>\n",
       "      <td>0</td>\n",
       "      <td>22389</td>\n",
       "      <td>16350</td>\n",
       "      <td>1083</td>\n",
       "      <td>0.00</td>\n",
       "    </tr>\n",
       "    <tr>\n",
       "      <th>132642</th>\n",
       "      <td>ZWE</td>\n",
       "      <td>2021-11-10</td>\n",
       "      <td>133302</td>\n",
       "      <td>60</td>\n",
       "      <td>30.143</td>\n",
       "      <td>4694</td>\n",
       "      <td>3</td>\n",
       "      <td>1.429</td>\n",
       "      <td>8832.526</td>\n",
       "      <td>3.976</td>\n",
       "      <td>...</td>\n",
       "      <td>0.0</td>\n",
       "      <td>Unknown</td>\n",
       "      <td>6079213</td>\n",
       "      <td>3409464</td>\n",
       "      <td>2669749</td>\n",
       "      <td>0</td>\n",
       "      <td>22500</td>\n",
       "      <td>17168</td>\n",
       "      <td>1138</td>\n",
       "      <td>0.00</td>\n",
       "    </tr>\n",
       "    <tr>\n",
       "      <th>132643</th>\n",
       "      <td>ZWE</td>\n",
       "      <td>2021-11-11</td>\n",
       "      <td>133329</td>\n",
       "      <td>27</td>\n",
       "      <td>31.000</td>\n",
       "      <td>4694</td>\n",
       "      <td>0</td>\n",
       "      <td>1.286</td>\n",
       "      <td>8834.315</td>\n",
       "      <td>1.789</td>\n",
       "      <td>...</td>\n",
       "      <td>0.0</td>\n",
       "      <td>Unknown</td>\n",
       "      <td>6101678</td>\n",
       "      <td>3423588</td>\n",
       "      <td>2678090</td>\n",
       "      <td>0</td>\n",
       "      <td>22465</td>\n",
       "      <td>17988</td>\n",
       "      <td>1192</td>\n",
       "      <td>0.00</td>\n",
       "    </tr>\n",
       "  </tbody>\n",
       "</table>\n",
       "<p>132644 rows × 32 columns</p>\n",
       "</div>"
      ],
      "text/plain": [
       "       iso_code        date  total_cases  new_cases  new_cases_smoothed  \\\n",
       "0           AFG  2020-02-24            5          5               0.000   \n",
       "1           AFG  2020-02-25            5          0               0.000   \n",
       "2           AFG  2020-02-26            5          0               0.000   \n",
       "3           AFG  2020-02-27            5          0               0.000   \n",
       "4           AFG  2020-02-28            5          0               0.000   \n",
       "...         ...         ...          ...        ...                 ...   \n",
       "132639      ZWE  2021-11-07       133187         19              30.000   \n",
       "132640      ZWE  2021-11-08       133205         18              28.286   \n",
       "132641      ZWE  2021-11-09       133242         37              27.857   \n",
       "132642      ZWE  2021-11-10       133302         60              30.143   \n",
       "132643      ZWE  2021-11-11       133329         27              31.000   \n",
       "\n",
       "        total_deaths  new_deaths  new_deaths_smoothed  \\\n",
       "0                  0           0                0.000   \n",
       "1                  0           0                0.000   \n",
       "2                  0           0                0.000   \n",
       "3                  0           0                0.000   \n",
       "4                  0           0                0.000   \n",
       "...              ...         ...                  ...   \n",
       "132639          4685           0                1.000   \n",
       "132640          4690           5                1.571   \n",
       "132641          4691           1                1.143   \n",
       "132642          4694           3                1.429   \n",
       "132643          4694           0                1.286   \n",
       "\n",
       "        total_cases_per_million  new_cases_per_million  ...  tests_per_case  \\\n",
       "0                         0.126                  0.126  ...             0.0   \n",
       "1                         0.126                  0.000  ...             0.0   \n",
       "2                         0.126                  0.000  ...             0.0   \n",
       "3                         0.126                  0.000  ...             0.0   \n",
       "4                         0.126                  0.000  ...             0.0   \n",
       "...                         ...                    ...  ...             ...   \n",
       "132639                 8824.907                  1.259  ...            96.0   \n",
       "132640                 8826.099                  1.193  ...             0.0   \n",
       "132641                 8828.551                  2.452  ...             0.0   \n",
       "132642                 8832.526                  3.976  ...             0.0   \n",
       "132643                 8834.315                  1.789  ...             0.0   \n",
       "\n",
       "            tests_units  total_vaccinations  people_vaccinated  \\\n",
       "0               Unknown                   0                  0   \n",
       "1               Unknown                   0                  0   \n",
       "2               Unknown                   0                  0   \n",
       "3               Unknown                   0                  0   \n",
       "4               Unknown                   0                  0   \n",
       "...                 ...                 ...                ...   \n",
       "132639  tests performed             6021461            3372721   \n",
       "132640          Unknown             6034324            3380245   \n",
       "132641          Unknown             6056713            3394826   \n",
       "132642          Unknown             6079213            3409464   \n",
       "132643          Unknown             6101678            3423588   \n",
       "\n",
       "        people_fully_vaccinated  total_boosters  new_vaccinations  \\\n",
       "0                             0               0                 0   \n",
       "1                             0               0                 0   \n",
       "2                             0               0                 0   \n",
       "3                             0               0                 0   \n",
       "4                             0               0                 0   \n",
       "...                         ...             ...               ...   \n",
       "132639                  2648740               0             14436   \n",
       "132640                  2654079               0             12863   \n",
       "132641                  2661887               0             22389   \n",
       "132642                  2669749               0             22500   \n",
       "132643                  2678090               0             22465   \n",
       "\n",
       "        new_vaccinations_smoothed  new_vaccinations_smoothed_per_million  \\\n",
       "0                               0                                      0   \n",
       "1                               0                                      0   \n",
       "2                               0                                      0   \n",
       "3                               0                                      0   \n",
       "4                               0                                      0   \n",
       "...                           ...                                    ...   \n",
       "132639                      15696                                   1040   \n",
       "132640                      15858                                   1051   \n",
       "132641                      16350                                   1083   \n",
       "132642                      17168                                   1138   \n",
       "132643                      17988                                   1192   \n",
       "\n",
       "        stringency_index  \n",
       "0                   8.33  \n",
       "1                   8.33  \n",
       "2                   8.33  \n",
       "3                   8.33  \n",
       "4                   8.33  \n",
       "...                  ...  \n",
       "132639              0.00  \n",
       "132640              0.00  \n",
       "132641              0.00  \n",
       "132642              0.00  \n",
       "132643              0.00  \n",
       "\n",
       "[132644 rows x 32 columns]"
      ]
     },
     "execution_count": 75,
     "metadata": {},
     "output_type": "execute_result"
    }
   ],
   "source": [
    "sorted_data = df.drop(['population', 'population_density', 'median_age', 'aged_65_older', 'aged_70_older', 'life_expectancy',\n",
    "                       'gdp_per_capita', 'extreme_poverty', 'human_development_index', 'cardiovasc_death_rate', 'diabetes_prevalence', \n",
    "                       'female_smokers', 'male_smokers', 'handwashing_facilities', 'hospital_beds_per_thousand' ], axis=1)\n",
    "sorted_data"
   ]
  },
  {
   "cell_type": "code",
   "execution_count": 78,
   "metadata": {},
   "outputs": [],
   "source": [
    "sorted_data.to_csv(\"../Data/Clean Data/Cleaned_Covid_Data.csv\", index= False)"
   ]
  },
  {
   "cell_type": "code",
   "execution_count": null,
   "metadata": {},
   "outputs": [],
   "source": []
  }
 ],
 "metadata": {
  "kernelspec": {
   "display_name": "Python 3",
   "language": "python",
   "name": "python3"
  },
  "language_info": {
   "codemirror_mode": {
    "name": "ipython",
    "version": 3
   },
   "file_extension": ".py",
   "mimetype": "text/x-python",
   "name": "python",
   "nbconvert_exporter": "python",
   "pygments_lexer": "ipython3",
   "version": "3.9.13"
  }
 },
 "nbformat": 4,
 "nbformat_minor": 2
}
